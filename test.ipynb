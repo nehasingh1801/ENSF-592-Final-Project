{
 "cells": [
  {
   "cell_type": "code",
   "execution_count": 1,
   "metadata": {},
   "outputs": [],
   "source": [
    "import pandas as pd\n",
    "import numpy as np"
   ]
  },
  {
   "cell_type": "markdown",
   "metadata": {},
   "source": [
    "# Drawing Map"
   ]
  },
  {
   "cell_type": "code",
   "execution_count": 2,
   "metadata": {},
   "outputs": [],
   "source": [
    "%matplotlib inline\n",
    "\n",
    "import numpy as np\n",
    "import pandas as pd\n",
    "import matplotlib.pyplot as plt\n",
    "import seaborn as sns\n",
    "import folium\n",
    "from folium.plugins import MarkerCluster"
   ]
  },
  {
   "cell_type": "markdown",
   "metadata": {},
   "source": [
    "# 1. Reading Calgary Boundary from City_Boundary_Layer"
   ]
  },
  {
   "cell_type": "code",
   "execution_count": 3,
   "metadata": {},
   "outputs": [
    {
     "data": {
      "text/html": [
       "<div style=\"width:100%;\"><div style=\"position:relative;width:100%;height:0;padding-bottom:60%;\"><span style=\"color:#565656\">Make this Notebook Trusted to load map: File -> Trust Notebook</span><iframe src=\"about:blank\" style=\"position:absolute;width:100%;height:100%;left:0;top:0;border:none !important;\" data-html=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 onload=\"this.contentDocument.open();this.contentDocument.write(atob(this.getAttribute('data-html')));this.contentDocument.close();\" allowfullscreen webkitallowfullscreen mozallowfullscreen></iframe></div></div>"
      ],
      "text/plain": [
       "<folium.folium.Map at 0x275991dfdc8>"
      ]
     },
     "execution_count": 3,
     "metadata": {},
     "output_type": "execute_result"
    }
   ],
   "source": [
    "# reading csv file containing the coordinates of calgary city\n",
    "df_boundary = pd.read_csv('City_Boundary_layer.csv')\n",
    "\n",
    "# reading coordinates and refining them\n",
    "df_coordinates = df_boundary['the_geom']\n",
    "df_cord = df_coordinates[0][10:].replace(\")\",\"\")\n",
    "df_cord_split = df_cord.split(\",\")\n",
    "\n",
    "# list of longitudes\n",
    "lons = [float((x.strip().split())[0]) for x in df_cord_split]\n",
    "\n",
    "# list of latitudes\n",
    "lats = [float((x.strip().split())[1]) for x in df_cord_split]\n",
    "\n",
    "# min and max latitude and longitude values\n",
    "long_max = max(lons)\n",
    "long_min = min(lons)\n",
    "lat_max = max(lats)\n",
    "lat_min = min(lats)\n",
    "\n",
    "# coordinates for drawing boundary of calgary\n",
    "ls = ((lat_max,long_max),(lat_max,long_min),(lat_min,long_min),(lat_min,long_max),(lat_max,long_max))\n",
    "\n",
    "# central location of calgary city\n",
    "locat = [51.049999, -114.066666]\n",
    "\n",
    "# displays the map of Calgary city\n",
    "m = folium.Map(location = locat, zoom_start=10)\n",
    "\n",
    "# adding boundary coordinates to the map and then displaying it\n",
    "folium.PolyLine(ls, color=\"red\", weight=2.5, opacity=1).add_to(m)\n",
    "m"
   ]
  },
  {
   "cell_type": "markdown",
   "metadata": {},
   "source": [
    "# 3. Divide calgary to a 10x10 matrix of areas. "
   ]
  },
  {
   "cell_type": "code",
   "execution_count": 4,
   "metadata": {},
   "outputs": [
    {
     "data": {
      "text/html": [
       "<div style=\"width:100%;\"><div style=\"position:relative;width:100%;height:0;padding-bottom:60%;\"><span style=\"color:#565656\">Make this Notebook Trusted to load map: File -> Trust Notebook</span><iframe src=\"about:blank\" style=\"position:absolute;width:100%;height:100%;left:0;top:0;border:none !important;\" data-html=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 onload=\"this.contentDocument.open();this.contentDocument.write(atob(this.getAttribute('data-html')));this.contentDocument.close();\" allowfullscreen webkitallowfullscreen mozallowfullscreen></iframe></div></div>"
      ],
      "text/plain": [
       "<folium.folium.Map at 0x275991dfdc8>"
      ]
     },
     "execution_count": 4,
     "metadata": {},
     "output_type": "execute_result"
    }
   ],
   "source": [
    "# dividing into grids\n",
    "vertical_cord_upper = []\n",
    "vertical_cord_lower = []\n",
    "horizontal_cord_left = []\n",
    "horizontal_cord_right = []\n",
    "\n",
    "# calculating the coordinates for creating the grids\n",
    "for i in range(1, 10):\n",
    "    # calculating the longitude after each iteration\n",
    "    long = long_min + (i*(long_max - long_min)/10)\n",
    "    # calculating the latitude after each iteration\n",
    "    lat = lat_min + (i*(lat_max - lat_min)/10)\n",
    "    # appending the coordinates for each iteration\n",
    "    vertical_cord_upper.append((lat_max,long))\n",
    "    vertical_cord_lower.append((lat_min,long))\n",
    "    horizontal_cord_left.append((lat, long_min))\n",
    "    horizontal_cord_right.append((lat, long_max))\n",
    "    horizontal_cord_right\n",
    "    \n",
    "# plotting the grids\n",
    "for i in range(0,9):\n",
    "    vertical_cord = []\n",
    "    horizontal_cord = []\n",
    "    # calculating the coordinates for drawing the vertical and the horizontal lines\n",
    "    vertical_cord.append(vertical_cord_upper[i])\n",
    "    vertical_cord.append(vertical_cord_lower[i])\n",
    "    horizontal_cord.append(horizontal_cord_left[i])\n",
    "    horizontal_cord.append(horizontal_cord_right[i])\n",
    "    # drawing a vertical line\n",
    "    folium.PolyLine(vertical_cord, color=\"brown\", weight=1, opacity=1).add_to(m)\n",
    "    # drawing a horizontal line\n",
    "    folium.PolyLine(horizontal_cord, color=\"brown\", weight=1, opacity=1).add_to(m)\n",
    "\n",
    "# displaying the map\n",
    "m\n"
   ]
  },
  {
   "cell_type": "markdown",
   "metadata": {},
   "source": [
    "# 4. For each grid calculate the various features"
   ]
  },
  {
   "cell_type": "code",
   "execution_count": 5,
   "metadata": {},
   "outputs": [],
   "source": [
    "# getting the coordinates of all the grids and storing them in a list\n",
    "# coordinates are stored as a list of tuples in grid_cord\n",
    "# Each tuple contains 4 values for lat min, lat max, long min, and long max\n",
    "\n",
    "# list for storing the coordinates\n",
    "grid_cord = []\n",
    "lat_grid_min = lat_min\n",
    "long_grid_min = long_min\n",
    "lat_grid_max = 0\n",
    "long_grid_max = 0\n",
    "\n",
    "# looping through the rows of the grids\n",
    "for i in range (1,11):\n",
    "    # calculating the latitude for particular row of grids\n",
    "    lat_grid_max = lat_grid_min + ((lat_max - lat_min)/10)\n",
    "    long_grid_min = long_min\n",
    "    \n",
    "    # looping through the columns of the grids\n",
    "    for j in range (1,11):\n",
    "        long_grid_max = long_grid_min + ((long_max - long_min)/10)\n",
    "        \n",
    "        # appending the coordinated for that particular grids\n",
    "        grid_cord.append((lat_grid_min,lat_grid_max,long_grid_min,long_grid_max))\n",
    "        long_grid_min = long_grid_max\n",
    "    lat_grid_min = lat_grid_max"
   ]
  },
  {
   "cell_type": "markdown",
   "metadata": {},
   "source": [
    "# Feature 1 : Counting number of cameras in each grid"
   ]
  },
  {
   "cell_type": "code",
   "execution_count": 6,
   "metadata": {},
   "outputs": [],
   "source": [
    "# counting no of cameras in each grid\n",
    "\n",
    "# reading csv file for cameras\n",
    "df_camera = pd.read_csv(\"Traffic_Camera_Locations.csv\")\n",
    "\n",
    "# dictionary for storing the values\n",
    "dict_data = {}\n",
    "\n",
    "# column for adding the number of cameras in each grid\n",
    "dict_data['num_cameras']= []\n",
    "\n",
    "# algo for counting the number of cameras in each grid \n",
    "\n",
    "# coordinates of each grid\n",
    "for i in grid_cord:\n",
    "    \n",
    "    # checking if the coordinates lie in that grid\n",
    "    bool_Series = df_camera['latitude'].between(float(i[0]), float(i[1]), inclusive = True) & df_camera['longitude'].between(float(i[2]), float(i[3]), inclusive = True)\n",
    "    \n",
    "    # getting data corresponding to the coordinates that lie in that grid\n",
    "    df_camera_filter = df_camera[bool_Series] \n",
    "\n",
    "    # appending num of cameras for that grid\n",
    "    dict_data['num_cameras'].append(df_camera_filter.shape[0])"
   ]
  },
  {
   "cell_type": "markdown",
   "metadata": {},
   "source": [
    "# Feature 2: Calculating Average Speed for each grid"
   ]
  },
  {
   "cell_type": "code",
   "execution_count": 7,
   "metadata": {},
   "outputs": [
    {
     "name": "stderr",
     "output_type": "stream",
     "text": [
      "C:\\Users\\nehas\\anaconda3\\lib\\site-packages\\ipykernel_launcher.py:19: SettingWithCopyWarning: \n",
      "A value is trying to be set on a copy of a slice from a DataFrame.\n",
      "Try using .loc[row_indexer,col_indexer] = value instead\n",
      "\n",
      "See the caveats in the documentation: https://pandas.pydata.org/pandas-docs/stable/user_guide/indexing.html#returning-a-view-versus-a-copy\n"
     ]
    }
   ],
   "source": [
    "# Reading the speed limits and refining the data for 2018\n",
    "\n",
    "# reading speed limits\n",
    "df_speed_all = pd.read_csv(\"Speed_Limits.csv\")\n",
    "\n",
    "# parsing date\n",
    "df_speed_all['CREATED_DT'] = pd.to_datetime(df_speed_all['CREATED_DT'], format = '%Y-%m-%d')\n",
    "\n",
    "# filtering data for year 2018\n",
    "df_speed = df_speed_all[df_speed_all['CREATED_DT'].dt.year == 2018]\n",
    "\n",
    "# remove own index with default index \n",
    "df_speed.reset_index(inplace = True, drop = True)\n",
    "\n",
    "# df_speed_loc has only speeds and location coordinates\n",
    "df_speed_loc = df_speed[['SPEED','multiline']]\n",
    "\n",
    "# removing extra characters from location\n",
    "df_speed_loc['multiline'] = df_speed_loc['multiline'].apply(lambda x: x[16:].replace(\"(\",\"\").replace(\")\",\"\"))\n",
    "\n",
    "# checks for NAN values\n",
    "df_speed_loc.isnull().any()\n",
    "\n",
    "# creating lists for latitude, longitude, and speed for 'speed data'\n",
    "speed_lat_ls =[]\n",
    "speed_long_ls = []\n",
    "speed_ls = []\n",
    "\n",
    "# algo for getting lats, longs, and speed\n",
    "for i in range (df_speed_loc.shape[0]):\n",
    "    coordinates = df_speed_loc.loc[i,'multiline'].split(\",\")\n",
    "    for j in coordinates:\n",
    "        cord_space = j.split()\n",
    "        speed_long_ls.append(cord_space[0])\n",
    "        speed_lat_ls.append(cord_space[1])\n",
    "        speed_ls.append(df_speed_loc.loc[i,'SPEED'])\n"
   ]
  },
  {
   "cell_type": "markdown",
   "metadata": {},
   "source": [
    "# Calculating average speeds for each grid"
   ]
  },
  {
   "cell_type": "code",
   "execution_count": 8,
   "metadata": {},
   "outputs": [],
   "source": [
    "# counting average speed in each grid\n",
    "pd.set_option('display.max_rows', 500)\n",
    "\n",
    "dict_speed = {'Speed':speed_ls, 'Latitude':speed_lat_ls, 'Longitude':speed_long_ls}\n",
    "\n",
    "# creating new data frame for speed with lats, longs, and speeds \n",
    "df_speed_new = pd.DataFrame.from_dict(dict_speed)\n",
    "df_speed_new = df_speed_new.astype(float)\n",
    "avg_speed_ls = []\n",
    "\n",
    "#i iterates through all the grids\n",
    "for i in grid_cord:\n",
    "    \n",
    "    # checks if coordinate lies in particular grid\n",
    "    bool_Series = df_speed_new['Latitude'].between(float(i[0]), float(i[1]), inclusive = True) & df_speed_new['Longitude'].between(float(i[2]), float(i[3]), inclusive = True)\n",
    "    \n",
    "    # getting data corresponding to the coordinates that lie in that grid\n",
    "    df_speed_new_filter = df_speed_new[bool_Series]\n",
    "    \n",
    "    # calculating average of the volumes\n",
    "    avg_speed_ls.append(df_speed_new_filter['Speed'].mean())\n",
    "dict_data['avg_speed'] = avg_speed_ls"
   ]
  },
  {
   "cell_type": "markdown",
   "metadata": {},
   "source": [
    "# Feature 3: Calculating Average Volumes"
   ]
  },
  {
   "cell_type": "code",
   "execution_count": 9,
   "metadata": {},
   "outputs": [
    {
     "name": "stderr",
     "output_type": "stream",
     "text": [
      "C:\\Users\\nehas\\anaconda3\\lib\\site-packages\\ipykernel_launcher.py:11: SettingWithCopyWarning: \n",
      "A value is trying to be set on a copy of a slice from a DataFrame.\n",
      "Try using .loc[row_indexer,col_indexer] = value instead\n",
      "\n",
      "See the caveats in the documentation: https://pandas.pydata.org/pandas-docs/stable/user_guide/indexing.html#returning-a-view-versus-a-copy\n",
      "  # This is added back by InteractiveShellApp.init_path()\n"
     ]
    }
   ],
   "source": [
    "# reading volume file\n",
    "traffic_vol_csv_all = pd.read_csv(\"Traffic_Volumes_for_2018.csv\")\n",
    "\n",
    "# filtering data for year 2018\n",
    "traffic_vol_csv = traffic_vol_csv_all[traffic_vol_csv_all['YEAR'] == 2018]\n",
    "\n",
    "# remove own index with default index \n",
    "traffic_vol_csv.reset_index(inplace = True, drop = True)\n",
    "\n",
    "# refining data in multilinestring to fetch individual coordinates\n",
    "traffic_vol_csv['multilinestring'] = traffic_vol_csv['multilinestring'].apply(lambda x: x[16:].replace(\"(\",\"\").replace(\")\",\"\"))\n",
    "\n",
    "# creating lists for latitude, longitude, and volume for 'traffic_vol_csv'\n",
    "vol_lat_list =[]\n",
    "vol_long_list = []\n",
    "vol_list = []\n",
    "\n",
    "# algo for getting lats, longs, and speed\n",
    "for i in range (traffic_vol_csv.shape[0]):\n",
    "    coordinates = traffic_vol_csv.loc[i,'multilinestring'].split(\",\")\n",
    "    for j in coordinates:\n",
    "        cord_space = j.split()\n",
    "        vol_long_list.append(float(cord_space[0]))\n",
    "        vol_lat_list.append(float(cord_space[1]))\n",
    "        vol_list.append(float(traffic_vol_csv.loc[i,'VOLUME']))"
   ]
  },
  {
   "cell_type": "markdown",
   "metadata": {},
   "source": [
    "# Finding average volumes for each grid"
   ]
  },
  {
   "cell_type": "code",
   "execution_count": 10,
   "metadata": {},
   "outputs": [],
   "source": [
    "df_volume_new = pd.DataFrame({'Volume':vol_list, 'Latitude':vol_lat_list, 'Longitude':vol_long_list})\n",
    "\n",
    "# list containing average values of volume for all grids\n",
    "volume_grid_ls = []\n",
    "\n",
    "#algo for finding the average\n",
    "#i iterates through all the grids\n",
    "for i in grid_cord:\n",
    "    \n",
    "    # checks if coordinate lies in particular grid\n",
    "    bool_Series = df_volume_new['Latitude'].between(float(i[0]), float(i[1]), inclusive = True) & df_volume_new['Longitude'].between(float(i[2]), float(i[3]), inclusive = True)\n",
    "    \n",
    "    # getting data corresponding to the coordinates that lie in that grid\n",
    "    df_volume_new_filter = df_volume_new[bool_Series]\n",
    "    \n",
    "    # calculating average of the volumes\n",
    "    volume_grid_ls.append(df_volume_new_filter['Volume'].mean()) \n",
    "    \n",
    "dict_data['avg_volume'] = volume_grid_ls"
   ]
  },
  {
   "cell_type": "markdown",
   "metadata": {},
   "source": [
    "# Feature 4: Finding traffic signals for each grid"
   ]
  },
  {
   "cell_type": "code",
   "execution_count": 11,
   "metadata": {},
   "outputs": [],
   "source": [
    "# reading traffic signals file\n",
    "df_signals_all = pd.read_csv(\"Traffic_Signals.csv\")\n",
    "\n",
    "# PARSING DATE\n",
    "df_signals_all['INSTDATE'] = pd.to_datetime(df_signals_all['INSTDATE'], format = '%Y-%m-%d')\n",
    "\n",
    "# filtering data for year 2018\n",
    "df_signals = df_signals_all[df_signals_all['INSTDATE'].dt.year == 2018]\n",
    "\n",
    "# remove own index with default index \n",
    "df_signals.reset_index(inplace = True, drop = True)\n",
    "\n",
    "# list for appending number of signals in each grid\n",
    "ls = []\n",
    "\n",
    "# iterating through grids\n",
    "for i in grid_cord:\n",
    "    # checking the latitue and longitudes\n",
    "    bool_Series = df_signals['latitude'].between(float(i[0]), float(i[1]), inclusive = True) & df_signals['longitude'].between(float(i[2]), float(i[3]), inclusive = True)\n",
    "    # getting the list of signals for a grid that is being iterated\n",
    "    df_sig = df_signals[bool_Series]\n",
    "    # appending the count of signals for a grid that is being iterated\n",
    "    ls.append(df_sig.shape[0])\n",
    "\n",
    "# adding signal data to the list\n",
    "dict_data['num_signal'] = ls"
   ]
  },
  {
   "cell_type": "markdown",
   "metadata": {},
   "source": [
    "# Feature 5: Finding Traffic Signs for each grid"
   ]
  },
  {
   "cell_type": "code",
   "execution_count": 12,
   "metadata": {},
   "outputs": [],
   "source": [
    "# reading signs.csv file\n",
    "df_signs = pd.read_csv(\"Traffic_Signs.csv\")\n",
    "\n",
    "# accessing the coordinates and signs\n",
    "df_signs = df_signs[['BLADE_TYPE','POINT']]\n",
    "\n",
    "# refining the coordinate data\n",
    "df_signs['POINT'] = df_signs['POINT'].apply(lambda x: x[7:].replace(\")\",\"\"))\n",
    "\n",
    "# filtering empty rows\n",
    "df_signs['BLADE_TYPE'].replace('', np.nan, inplace=True)\n",
    "df_signs.dropna(subset=['BLADE_TYPE'], inplace=True)\n",
    "\n",
    "# creating latitude and longitude from point\n",
    "df_signs['latitude'] = df_signs['POINT'].apply(lambda x: x.split()[1])\n",
    "df_signs['latitude'] = df_signs['latitude'].astype(float)\n",
    "df_signs['longitude'] = df_signs['POINT'].apply(lambda x: x.split()[0])\n",
    "df_signs['longitude'] = df_signs['longitude'].astype(float)\n",
    "\n",
    "# list for appending number of signs in each grid\n",
    "ls_signs = []\n",
    "\n",
    "# iterating through grids\n",
    "for i in grid_cord:\n",
    "    # checking the latitue and longitudes\n",
    "    bool_Series = df_signs['latitude'].between(float(i[0]), float(i[1]), inclusive = True) & df_signs['longitude'].between(float(i[2]), float(i[3]), inclusive = True)\n",
    "    # getting the list of signs for a grid that is being iterated\n",
    "    df_sig = df_signs[bool_Series]\n",
    "    # appending the count of signs for a grid that is being iterated\n",
    "    ls_signs.append(df_sig.shape[0])\n",
    "\n",
    "# adding data for traffic signs to the dictionary\n",
    "dict_data['num_signs'] = ls_signs"
   ]
  },
  {
   "cell_type": "markdown",
   "metadata": {},
   "source": [
    "# Feature 6 : Calculating average number of incidents for each grid"
   ]
  },
  {
   "cell_type": "code",
   "execution_count": 13,
   "metadata": {},
   "outputs": [],
   "source": [
    "# reading csv file\n",
    "df_incident_all = pd.read_csv(\"Traffic_Incidents.csv\", parse_dates = ['START_DT'])\n",
    "\n",
    "# filtering data for year 2018\n",
    "df_incident = df_incident_all[df_incident_all['START_DT'].dt.year == 2018]\n",
    "\n",
    "# remove own index with default index \n",
    "df_incident.reset_index(inplace = True, drop = True)\n",
    "\n",
    "# list for appending number of accidents in each grid\n",
    "ls_incident = []\n",
    "\n",
    "# iterating through grids\n",
    "for i in grid_cord:\n",
    "    # checking the latitue and longitudes\n",
    "    bool_Series = df_incident['Latitude'].between(float(i[0]), float(i[1]), inclusive = True) & df_incident['Longitude'].between(float(i[2]), float(i[3]), inclusive = True)\n",
    "    # getting the list of accidents for a grid that is being iterated\n",
    "    df_acc = df_incident[bool_Series]\n",
    "    # appending the count of accidents for a grid that is being iterated\n",
    "    ls_incident.append(df_acc.shape[0])\n",
    "\n",
    "dict_data['num_accidents'] = ls_incident"
   ]
  },
  {
   "cell_type": "markdown",
   "metadata": {},
   "source": [
    "# Creating data frame and printing it"
   ]
  },
  {
   "cell_type": "code",
   "execution_count": 14,
   "metadata": {},
   "outputs": [
    {
     "data": {
      "text/html": [
       "<div>\n",
       "<style scoped>\n",
       "    .dataframe tbody tr th:only-of-type {\n",
       "        vertical-align: middle;\n",
       "    }\n",
       "\n",
       "    .dataframe tbody tr th {\n",
       "        vertical-align: top;\n",
       "    }\n",
       "\n",
       "    .dataframe thead th {\n",
       "        text-align: right;\n",
       "    }\n",
       "</style>\n",
       "<table border=\"1\" class=\"dataframe\">\n",
       "  <thead>\n",
       "    <tr style=\"text-align: right;\">\n",
       "      <th></th>\n",
       "      <th>num_cameras</th>\n",
       "      <th>avg_speed</th>\n",
       "      <th>avg_volume</th>\n",
       "      <th>num_signal</th>\n",
       "      <th>num_signs</th>\n",
       "      <th>num_accidents</th>\n",
       "      <th>cell_bounds</th>\n",
       "    </tr>\n",
       "  </thead>\n",
       "  <tbody>\n",
       "    <tr>\n",
       "      <th>0</th>\n",
       "      <td>0</td>\n",
       "      <td>0.000000</td>\n",
       "      <td>0.000000</td>\n",
       "      <td>0</td>\n",
       "      <td>0</td>\n",
       "      <td>0</td>\n",
       "      <td>(50.842822, 50.8797823, -114.315796, -114.2702...</td>\n",
       "    </tr>\n",
       "    <tr>\n",
       "      <th>1</th>\n",
       "      <td>0</td>\n",
       "      <td>0.000000</td>\n",
       "      <td>0.000000</td>\n",
       "      <td>0</td>\n",
       "      <td>0</td>\n",
       "      <td>0</td>\n",
       "      <td>(50.842822, 50.8797823, -114.2702069, -114.224...</td>\n",
       "    </tr>\n",
       "    <tr>\n",
       "      <th>2</th>\n",
       "      <td>0</td>\n",
       "      <td>0.000000</td>\n",
       "      <td>0.000000</td>\n",
       "      <td>0</td>\n",
       "      <td>0</td>\n",
       "      <td>0</td>\n",
       "      <td>(50.842822, 50.8797823, -114.2246178, -114.179...</td>\n",
       "    </tr>\n",
       "    <tr>\n",
       "      <th>3</th>\n",
       "      <td>0</td>\n",
       "      <td>0.000000</td>\n",
       "      <td>0.000000</td>\n",
       "      <td>0</td>\n",
       "      <td>0</td>\n",
       "      <td>0</td>\n",
       "      <td>(50.842822, 50.8797823, -114.1790287, -114.133...</td>\n",
       "    </tr>\n",
       "    <tr>\n",
       "      <th>4</th>\n",
       "      <td>0</td>\n",
       "      <td>0.000000</td>\n",
       "      <td>2000.000000</td>\n",
       "      <td>0</td>\n",
       "      <td>54</td>\n",
       "      <td>0</td>\n",
       "      <td>(50.842822, 50.8797823, -114.1334396, -114.087...</td>\n",
       "    </tr>\n",
       "    <tr>\n",
       "      <th>5</th>\n",
       "      <td>1</td>\n",
       "      <td>55.063291</td>\n",
       "      <td>2509.433962</td>\n",
       "      <td>0</td>\n",
       "      <td>303</td>\n",
       "      <td>7</td>\n",
       "      <td>(50.842822, 50.8797823, -114.0878505, -114.042...</td>\n",
       "    </tr>\n",
       "    <tr>\n",
       "      <th>6</th>\n",
       "      <td>1</td>\n",
       "      <td>70.557621</td>\n",
       "      <td>11914.826498</td>\n",
       "      <td>0</td>\n",
       "      <td>1486</td>\n",
       "      <td>17</td>\n",
       "      <td>(50.842822, 50.8797823, -114.0422614, -113.996...</td>\n",
       "    </tr>\n",
       "    <tr>\n",
       "      <th>7</th>\n",
       "      <td>0</td>\n",
       "      <td>80.445545</td>\n",
       "      <td>17805.128205</td>\n",
       "      <td>0</td>\n",
       "      <td>753</td>\n",
       "      <td>13</td>\n",
       "      <td>(50.842822, 50.8797823, -113.9966723, -113.951...</td>\n",
       "    </tr>\n",
       "    <tr>\n",
       "      <th>8</th>\n",
       "      <td>0</td>\n",
       "      <td>0.000000</td>\n",
       "      <td>0.000000</td>\n",
       "      <td>0</td>\n",
       "      <td>27</td>\n",
       "      <td>0</td>\n",
       "      <td>(50.842822, 50.8797823, -113.9510832, -113.905...</td>\n",
       "    </tr>\n",
       "    <tr>\n",
       "      <th>9</th>\n",
       "      <td>0</td>\n",
       "      <td>0.000000</td>\n",
       "      <td>0.000000</td>\n",
       "      <td>0</td>\n",
       "      <td>5</td>\n",
       "      <td>0</td>\n",
       "      <td>(50.842822, 50.8797823, -113.9054941, -113.859...</td>\n",
       "    </tr>\n",
       "    <tr>\n",
       "      <th>10</th>\n",
       "      <td>0</td>\n",
       "      <td>0.000000</td>\n",
       "      <td>0.000000</td>\n",
       "      <td>0</td>\n",
       "      <td>0</td>\n",
       "      <td>0</td>\n",
       "      <td>(50.8797823, 50.916742600000006, -114.315796, ...</td>\n",
       "    </tr>\n",
       "    <tr>\n",
       "      <th>11</th>\n",
       "      <td>0</td>\n",
       "      <td>0.000000</td>\n",
       "      <td>0.000000</td>\n",
       "      <td>0</td>\n",
       "      <td>0</td>\n",
       "      <td>0</td>\n",
       "      <td>(50.8797823, 50.916742600000006, -114.2702069,...</td>\n",
       "    </tr>\n",
       "    <tr>\n",
       "      <th>12</th>\n",
       "      <td>0</td>\n",
       "      <td>0.000000</td>\n",
       "      <td>12352.941176</td>\n",
       "      <td>0</td>\n",
       "      <td>93</td>\n",
       "      <td>1</td>\n",
       "      <td>(50.8797823, 50.916742600000006, -114.2246178,...</td>\n",
       "    </tr>\n",
       "    <tr>\n",
       "      <th>13</th>\n",
       "      <td>0</td>\n",
       "      <td>0.000000</td>\n",
       "      <td>14358.974359</td>\n",
       "      <td>0</td>\n",
       "      <td>241</td>\n",
       "      <td>6</td>\n",
       "      <td>(50.8797823, 50.916742600000006, -114.1790287,...</td>\n",
       "    </tr>\n",
       "    <tr>\n",
       "      <th>14</th>\n",
       "      <td>0</td>\n",
       "      <td>0.000000</td>\n",
       "      <td>12285.475793</td>\n",
       "      <td>1</td>\n",
       "      <td>2409</td>\n",
       "      <td>50</td>\n",
       "      <td>(50.8797823, 50.916742600000006, -114.1334396,...</td>\n",
       "    </tr>\n",
       "    <tr>\n",
       "      <th>15</th>\n",
       "      <td>3</td>\n",
       "      <td>59.489051</td>\n",
       "      <td>19579.357352</td>\n",
       "      <td>0</td>\n",
       "      <td>3895</td>\n",
       "      <td>111</td>\n",
       "      <td>(50.8797823, 50.916742600000006, -114.0878505,...</td>\n",
       "    </tr>\n",
       "    <tr>\n",
       "      <th>16</th>\n",
       "      <td>1</td>\n",
       "      <td>73.303471</td>\n",
       "      <td>27660.766962</td>\n",
       "      <td>0</td>\n",
       "      <td>1488</td>\n",
       "      <td>27</td>\n",
       "      <td>(50.8797823, 50.916742600000006, -114.0422614,...</td>\n",
       "    </tr>\n",
       "    <tr>\n",
       "      <th>17</th>\n",
       "      <td>2</td>\n",
       "      <td>69.007752</td>\n",
       "      <td>23421.978022</td>\n",
       "      <td>1</td>\n",
       "      <td>3478</td>\n",
       "      <td>104</td>\n",
       "      <td>(50.8797823, 50.916742600000006, -113.9966723,...</td>\n",
       "    </tr>\n",
       "    <tr>\n",
       "      <th>18</th>\n",
       "      <td>1</td>\n",
       "      <td>75.272459</td>\n",
       "      <td>21129.657228</td>\n",
       "      <td>0</td>\n",
       "      <td>2425</td>\n",
       "      <td>35</td>\n",
       "      <td>(50.8797823, 50.916742600000006, -113.9510832,...</td>\n",
       "    </tr>\n",
       "    <tr>\n",
       "      <th>19</th>\n",
       "      <td>0</td>\n",
       "      <td>76.341463</td>\n",
       "      <td>9000.000000</td>\n",
       "      <td>0</td>\n",
       "      <td>70</td>\n",
       "      <td>2</td>\n",
       "      <td>(50.8797823, 50.916742600000006, -113.9054941,...</td>\n",
       "    </tr>\n",
       "    <tr>\n",
       "      <th>20</th>\n",
       "      <td>0</td>\n",
       "      <td>0.000000</td>\n",
       "      <td>0.000000</td>\n",
       "      <td>0</td>\n",
       "      <td>0</td>\n",
       "      <td>0</td>\n",
       "      <td>(50.916742600000006, 50.95370290000001, -114.3...</td>\n",
       "    </tr>\n",
       "    <tr>\n",
       "      <th>21</th>\n",
       "      <td>0</td>\n",
       "      <td>0.000000</td>\n",
       "      <td>0.000000</td>\n",
       "      <td>0</td>\n",
       "      <td>0</td>\n",
       "      <td>0</td>\n",
       "      <td>(50.916742600000006, 50.95370290000001, -114.2...</td>\n",
       "    </tr>\n",
       "    <tr>\n",
       "      <th>22</th>\n",
       "      <td>0</td>\n",
       "      <td>0.000000</td>\n",
       "      <td>0.000000</td>\n",
       "      <td>0</td>\n",
       "      <td>2</td>\n",
       "      <td>0</td>\n",
       "      <td>(50.916742600000006, 50.95370290000001, -114.2...</td>\n",
       "    </tr>\n",
       "    <tr>\n",
       "      <th>23</th>\n",
       "      <td>0</td>\n",
       "      <td>40.714286</td>\n",
       "      <td>10875.912409</td>\n",
       "      <td>0</td>\n",
       "      <td>417</td>\n",
       "      <td>9</td>\n",
       "      <td>(50.916742600000006, 50.95370290000001, -114.1...</td>\n",
       "    </tr>\n",
       "    <tr>\n",
       "      <th>24</th>\n",
       "      <td>0</td>\n",
       "      <td>55.751634</td>\n",
       "      <td>14508.226691</td>\n",
       "      <td>0</td>\n",
       "      <td>2699</td>\n",
       "      <td>46</td>\n",
       "      <td>(50.916742600000006, 50.95370290000001, -114.1...</td>\n",
       "    </tr>\n",
       "    <tr>\n",
       "      <th>25</th>\n",
       "      <td>5</td>\n",
       "      <td>54.561782</td>\n",
       "      <td>31692.235734</td>\n",
       "      <td>0</td>\n",
       "      <td>3442</td>\n",
       "      <td>154</td>\n",
       "      <td>(50.916742600000006, 50.95370290000001, -114.0...</td>\n",
       "    </tr>\n",
       "    <tr>\n",
       "      <th>26</th>\n",
       "      <td>0</td>\n",
       "      <td>63.678261</td>\n",
       "      <td>38376.114082</td>\n",
       "      <td>0</td>\n",
       "      <td>2693</td>\n",
       "      <td>96</td>\n",
       "      <td>(50.916742600000006, 50.95370290000001, -114.0...</td>\n",
       "    </tr>\n",
       "    <tr>\n",
       "      <th>27</th>\n",
       "      <td>5</td>\n",
       "      <td>70.959198</td>\n",
       "      <td>23227.102804</td>\n",
       "      <td>3</td>\n",
       "      <td>2370</td>\n",
       "      <td>93</td>\n",
       "      <td>(50.916742600000006, 50.95370290000001, -113.9...</td>\n",
       "    </tr>\n",
       "    <tr>\n",
       "      <th>28</th>\n",
       "      <td>0</td>\n",
       "      <td>66.107383</td>\n",
       "      <td>14836.065574</td>\n",
       "      <td>0</td>\n",
       "      <td>1078</td>\n",
       "      <td>27</td>\n",
       "      <td>(50.916742600000006, 50.95370290000001, -113.9...</td>\n",
       "    </tr>\n",
       "    <tr>\n",
       "      <th>29</th>\n",
       "      <td>0</td>\n",
       "      <td>60.000000</td>\n",
       "      <td>0.000000</td>\n",
       "      <td>0</td>\n",
       "      <td>119</td>\n",
       "      <td>0</td>\n",
       "      <td>(50.916742600000006, 50.95370290000001, -113.9...</td>\n",
       "    </tr>\n",
       "    <tr>\n",
       "      <th>30</th>\n",
       "      <td>0</td>\n",
       "      <td>0.000000</td>\n",
       "      <td>0.000000</td>\n",
       "      <td>0</td>\n",
       "      <td>0</td>\n",
       "      <td>0</td>\n",
       "      <td>(50.95370290000001, 50.990663200000014, -114.3...</td>\n",
       "    </tr>\n",
       "    <tr>\n",
       "      <th>31</th>\n",
       "      <td>0</td>\n",
       "      <td>0.000000</td>\n",
       "      <td>0.000000</td>\n",
       "      <td>0</td>\n",
       "      <td>0</td>\n",
       "      <td>0</td>\n",
       "      <td>(50.95370290000001, 50.990663200000014, -114.2...</td>\n",
       "    </tr>\n",
       "    <tr>\n",
       "      <th>32</th>\n",
       "      <td>0</td>\n",
       "      <td>0.000000</td>\n",
       "      <td>0.000000</td>\n",
       "      <td>0</td>\n",
       "      <td>0</td>\n",
       "      <td>0</td>\n",
       "      <td>(50.95370290000001, 50.990663200000014, -114.2...</td>\n",
       "    </tr>\n",
       "    <tr>\n",
       "      <th>33</th>\n",
       "      <td>0</td>\n",
       "      <td>0.000000</td>\n",
       "      <td>2571.428571</td>\n",
       "      <td>0</td>\n",
       "      <td>260</td>\n",
       "      <td>0</td>\n",
       "      <td>(50.95370290000001, 50.990663200000014, -114.1...</td>\n",
       "    </tr>\n",
       "    <tr>\n",
       "      <th>34</th>\n",
       "      <td>2</td>\n",
       "      <td>30.000000</td>\n",
       "      <td>21442.666667</td>\n",
       "      <td>1</td>\n",
       "      <td>3198</td>\n",
       "      <td>88</td>\n",
       "      <td>(50.95370290000001, 50.990663200000014, -114.1...</td>\n",
       "    </tr>\n",
       "    <tr>\n",
       "      <th>35</th>\n",
       "      <td>3</td>\n",
       "      <td>57.663934</td>\n",
       "      <td>18290.612245</td>\n",
       "      <td>0</td>\n",
       "      <td>5266</td>\n",
       "      <td>225</td>\n",
       "      <td>(50.95370290000001, 50.990663200000014, -114.0...</td>\n",
       "    </tr>\n",
       "    <tr>\n",
       "      <th>36</th>\n",
       "      <td>3</td>\n",
       "      <td>73.466767</td>\n",
       "      <td>37399.018806</td>\n",
       "      <td>1</td>\n",
       "      <td>3147</td>\n",
       "      <td>149</td>\n",
       "      <td>(50.95370290000001, 50.990663200000014, -114.0...</td>\n",
       "    </tr>\n",
       "    <tr>\n",
       "      <th>37</th>\n",
       "      <td>2</td>\n",
       "      <td>70.077320</td>\n",
       "      <td>16257.982120</td>\n",
       "      <td>0</td>\n",
       "      <td>1710</td>\n",
       "      <td>104</td>\n",
       "      <td>(50.95370290000001, 50.990663200000014, -113.9...</td>\n",
       "    </tr>\n",
       "    <tr>\n",
       "      <th>38</th>\n",
       "      <td>1</td>\n",
       "      <td>72.982998</td>\n",
       "      <td>14462.264151</td>\n",
       "      <td>0</td>\n",
       "      <td>417</td>\n",
       "      <td>38</td>\n",
       "      <td>(50.95370290000001, 50.990663200000014, -113.9...</td>\n",
       "    </tr>\n",
       "    <tr>\n",
       "      <th>39</th>\n",
       "      <td>0</td>\n",
       "      <td>0.000000</td>\n",
       "      <td>10200.000000</td>\n",
       "      <td>0</td>\n",
       "      <td>165</td>\n",
       "      <td>0</td>\n",
       "      <td>(50.95370290000001, 50.990663200000014, -113.9...</td>\n",
       "    </tr>\n",
       "    <tr>\n",
       "      <th>40</th>\n",
       "      <td>0</td>\n",
       "      <td>0.000000</td>\n",
       "      <td>0.000000</td>\n",
       "      <td>0</td>\n",
       "      <td>0</td>\n",
       "      <td>0</td>\n",
       "      <td>(50.990663200000014, 51.02762350000002, -114.3...</td>\n",
       "    </tr>\n",
       "    <tr>\n",
       "      <th>41</th>\n",
       "      <td>0</td>\n",
       "      <td>80.000000</td>\n",
       "      <td>17906.976744</td>\n",
       "      <td>0</td>\n",
       "      <td>68</td>\n",
       "      <td>1</td>\n",
       "      <td>(50.990663200000014, 51.02762350000002, -114.2...</td>\n",
       "    </tr>\n",
       "    <tr>\n",
       "      <th>42</th>\n",
       "      <td>0</td>\n",
       "      <td>0.000000</td>\n",
       "      <td>15631.578947</td>\n",
       "      <td>0</td>\n",
       "      <td>1359</td>\n",
       "      <td>15</td>\n",
       "      <td>(50.990663200000014, 51.02762350000002, -114.2...</td>\n",
       "    </tr>\n",
       "    <tr>\n",
       "      <th>43</th>\n",
       "      <td>0</td>\n",
       "      <td>40.000000</td>\n",
       "      <td>24648.829431</td>\n",
       "      <td>0</td>\n",
       "      <td>3023</td>\n",
       "      <td>69</td>\n",
       "      <td>(50.990663200000014, 51.02762350000002, -114.1...</td>\n",
       "    </tr>\n",
       "    <tr>\n",
       "      <th>44</th>\n",
       "      <td>3</td>\n",
       "      <td>40.790598</td>\n",
       "      <td>41029.411765</td>\n",
       "      <td>0</td>\n",
       "      <td>5720</td>\n",
       "      <td>303</td>\n",
       "      <td>(50.990663200000014, 51.02762350000002, -114.1...</td>\n",
       "    </tr>\n",
       "    <tr>\n",
       "      <th>45</th>\n",
       "      <td>9</td>\n",
       "      <td>67.763158</td>\n",
       "      <td>29633.191489</td>\n",
       "      <td>1</td>\n",
       "      <td>7203</td>\n",
       "      <td>307</td>\n",
       "      <td>(50.990663200000014, 51.02762350000002, -114.0...</td>\n",
       "    </tr>\n",
       "    <tr>\n",
       "      <th>46</th>\n",
       "      <td>5</td>\n",
       "      <td>76.513841</td>\n",
       "      <td>47646.044625</td>\n",
       "      <td>0</td>\n",
       "      <td>1801</td>\n",
       "      <td>297</td>\n",
       "      <td>(50.990663200000014, 51.02762350000002, -114.0...</td>\n",
       "    </tr>\n",
       "    <tr>\n",
       "      <th>47</th>\n",
       "      <td>1</td>\n",
       "      <td>67.184466</td>\n",
       "      <td>13521.739130</td>\n",
       "      <td>0</td>\n",
       "      <td>2712</td>\n",
       "      <td>63</td>\n",
       "      <td>(50.990663200000014, 51.02762350000002, -113.9...</td>\n",
       "    </tr>\n",
       "    <tr>\n",
       "      <th>48</th>\n",
       "      <td>0</td>\n",
       "      <td>69.797844</td>\n",
       "      <td>28179.487179</td>\n",
       "      <td>0</td>\n",
       "      <td>150</td>\n",
       "      <td>36</td>\n",
       "      <td>(50.990663200000014, 51.02762350000002, -113.9...</td>\n",
       "    </tr>\n",
       "    <tr>\n",
       "      <th>49</th>\n",
       "      <td>0</td>\n",
       "      <td>80.000000</td>\n",
       "      <td>0.000000</td>\n",
       "      <td>0</td>\n",
       "      <td>7</td>\n",
       "      <td>0</td>\n",
       "      <td>(50.990663200000014, 51.02762350000002, -113.9...</td>\n",
       "    </tr>\n",
       "    <tr>\n",
       "      <th>50</th>\n",
       "      <td>0</td>\n",
       "      <td>0.000000</td>\n",
       "      <td>0.000000</td>\n",
       "      <td>0</td>\n",
       "      <td>0</td>\n",
       "      <td>0</td>\n",
       "      <td>(51.02762350000002, 51.06458380000002, -114.31...</td>\n",
       "    </tr>\n",
       "    <tr>\n",
       "      <th>51</th>\n",
       "      <td>0</td>\n",
       "      <td>60.000000</td>\n",
       "      <td>8000.000000</td>\n",
       "      <td>0</td>\n",
       "      <td>63</td>\n",
       "      <td>3</td>\n",
       "      <td>(51.02762350000002, 51.06458380000002, -114.27...</td>\n",
       "    </tr>\n",
       "    <tr>\n",
       "      <th>52</th>\n",
       "      <td>0</td>\n",
       "      <td>60.000000</td>\n",
       "      <td>19318.890815</td>\n",
       "      <td>1</td>\n",
       "      <td>3838</td>\n",
       "      <td>45</td>\n",
       "      <td>(51.02762350000002, 51.06458380000002, -114.22...</td>\n",
       "    </tr>\n",
       "    <tr>\n",
       "      <th>53</th>\n",
       "      <td>2</td>\n",
       "      <td>58.500000</td>\n",
       "      <td>27780.487805</td>\n",
       "      <td>0</td>\n",
       "      <td>6468</td>\n",
       "      <td>107</td>\n",
       "      <td>(51.02762350000002, 51.06458380000002, -114.17...</td>\n",
       "    </tr>\n",
       "    <tr>\n",
       "      <th>54</th>\n",
       "      <td>8</td>\n",
       "      <td>44.541578</td>\n",
       "      <td>29086.923077</td>\n",
       "      <td>0</td>\n",
       "      <td>12664</td>\n",
       "      <td>326</td>\n",
       "      <td>(51.02762350000002, 51.06458380000002, -114.13...</td>\n",
       "    </tr>\n",
       "    <tr>\n",
       "      <th>55</th>\n",
       "      <td>22</td>\n",
       "      <td>30.205479</td>\n",
       "      <td>15870.370370</td>\n",
       "      <td>3</td>\n",
       "      <td>33352</td>\n",
       "      <td>465</td>\n",
       "      <td>(51.02762350000002, 51.06458380000002, -114.08...</td>\n",
       "    </tr>\n",
       "    <tr>\n",
       "      <th>56</th>\n",
       "      <td>5</td>\n",
       "      <td>77.162954</td>\n",
       "      <td>48142.142857</td>\n",
       "      <td>2</td>\n",
       "      <td>5585</td>\n",
       "      <td>362</td>\n",
       "      <td>(51.02762350000002, 51.06458380000002, -114.04...</td>\n",
       "    </tr>\n",
       "    <tr>\n",
       "      <th>57</th>\n",
       "      <td>5</td>\n",
       "      <td>60.000000</td>\n",
       "      <td>19009.925558</td>\n",
       "      <td>6</td>\n",
       "      <td>5514</td>\n",
       "      <td>259</td>\n",
       "      <td>(51.02762350000002, 51.06458380000002, -113.99...</td>\n",
       "    </tr>\n",
       "    <tr>\n",
       "      <th>58</th>\n",
       "      <td>0</td>\n",
       "      <td>70.686620</td>\n",
       "      <td>32221.957041</td>\n",
       "      <td>0</td>\n",
       "      <td>2099</td>\n",
       "      <td>84</td>\n",
       "      <td>(51.02762350000002, 51.06458380000002, -113.95...</td>\n",
       "    </tr>\n",
       "    <tr>\n",
       "      <th>59</th>\n",
       "      <td>0</td>\n",
       "      <td>80.000000</td>\n",
       "      <td>16000.000000</td>\n",
       "      <td>0</td>\n",
       "      <td>118</td>\n",
       "      <td>5</td>\n",
       "      <td>(51.02762350000002, 51.06458380000002, -113.90...</td>\n",
       "    </tr>\n",
       "    <tr>\n",
       "      <th>60</th>\n",
       "      <td>0</td>\n",
       "      <td>0.000000</td>\n",
       "      <td>44000.000000</td>\n",
       "      <td>0</td>\n",
       "      <td>116</td>\n",
       "      <td>5</td>\n",
       "      <td>(51.06458380000002, 51.10154410000003, -114.31...</td>\n",
       "    </tr>\n",
       "    <tr>\n",
       "      <th>61</th>\n",
       "      <td>0</td>\n",
       "      <td>58.776042</td>\n",
       "      <td>32582.887701</td>\n",
       "      <td>0</td>\n",
       "      <td>893</td>\n",
       "      <td>14</td>\n",
       "      <td>(51.06458380000002, 51.10154410000003, -114.27...</td>\n",
       "    </tr>\n",
       "    <tr>\n",
       "      <th>62</th>\n",
       "      <td>1</td>\n",
       "      <td>49.056604</td>\n",
       "      <td>17951.367781</td>\n",
       "      <td>0</td>\n",
       "      <td>3426</td>\n",
       "      <td>44</td>\n",
       "      <td>(51.06458380000002, 51.10154410000003, -114.22...</td>\n",
       "    </tr>\n",
       "    <tr>\n",
       "      <th>63</th>\n",
       "      <td>2</td>\n",
       "      <td>61.929825</td>\n",
       "      <td>25056.281407</td>\n",
       "      <td>3</td>\n",
       "      <td>6104</td>\n",
       "      <td>123</td>\n",
       "      <td>(51.06458380000002, 51.10154410000003, -114.17...</td>\n",
       "    </tr>\n",
       "    <tr>\n",
       "      <th>64</th>\n",
       "      <td>3</td>\n",
       "      <td>38.604119</td>\n",
       "      <td>27171.078115</td>\n",
       "      <td>1</td>\n",
       "      <td>6775</td>\n",
       "      <td>161</td>\n",
       "      <td>(51.06458380000002, 51.10154410000003, -114.13...</td>\n",
       "    </tr>\n",
       "    <tr>\n",
       "      <th>65</th>\n",
       "      <td>4</td>\n",
       "      <td>59.523810</td>\n",
       "      <td>25199.291408</td>\n",
       "      <td>1</td>\n",
       "      <td>7755</td>\n",
       "      <td>238</td>\n",
       "      <td>(51.06458380000002, 51.10154410000003, -114.08...</td>\n",
       "    </tr>\n",
       "    <tr>\n",
       "      <th>66</th>\n",
       "      <td>6</td>\n",
       "      <td>64.567757</td>\n",
       "      <td>37966.824645</td>\n",
       "      <td>0</td>\n",
       "      <td>2475</td>\n",
       "      <td>354</td>\n",
       "      <td>(51.06458380000002, 51.10154410000003, -114.04...</td>\n",
       "    </tr>\n",
       "    <tr>\n",
       "      <th>67</th>\n",
       "      <td>6</td>\n",
       "      <td>47.760342</td>\n",
       "      <td>21158.991228</td>\n",
       "      <td>1</td>\n",
       "      <td>4424</td>\n",
       "      <td>290</td>\n",
       "      <td>(51.06458380000002, 51.10154410000003, -113.99...</td>\n",
       "    </tr>\n",
       "    <tr>\n",
       "      <th>68</th>\n",
       "      <td>2</td>\n",
       "      <td>71.939597</td>\n",
       "      <td>34263.048017</td>\n",
       "      <td>0</td>\n",
       "      <td>2584</td>\n",
       "      <td>127</td>\n",
       "      <td>(51.06458380000002, 51.10154410000003, -113.95...</td>\n",
       "    </tr>\n",
       "    <tr>\n",
       "      <th>69</th>\n",
       "      <td>0</td>\n",
       "      <td>0.000000</td>\n",
       "      <td>0.000000</td>\n",
       "      <td>0</td>\n",
       "      <td>14</td>\n",
       "      <td>0</td>\n",
       "      <td>(51.06458380000002, 51.10154410000003, -113.90...</td>\n",
       "    </tr>\n",
       "    <tr>\n",
       "      <th>70</th>\n",
       "      <td>0</td>\n",
       "      <td>0.000000</td>\n",
       "      <td>0.000000</td>\n",
       "      <td>0</td>\n",
       "      <td>26</td>\n",
       "      <td>0</td>\n",
       "      <td>(51.10154410000003, 51.13850440000003, -114.31...</td>\n",
       "    </tr>\n",
       "    <tr>\n",
       "      <th>71</th>\n",
       "      <td>0</td>\n",
       "      <td>56.993007</td>\n",
       "      <td>25233.193277</td>\n",
       "      <td>1</td>\n",
       "      <td>2203</td>\n",
       "      <td>26</td>\n",
       "      <td>(51.10154410000003, 51.13850440000003, -114.27...</td>\n",
       "    </tr>\n",
       "    <tr>\n",
       "      <th>72</th>\n",
       "      <td>1</td>\n",
       "      <td>63.468085</td>\n",
       "      <td>20248.645394</td>\n",
       "      <td>0</td>\n",
       "      <td>4368</td>\n",
       "      <td>67</td>\n",
       "      <td>(51.10154410000003, 51.13850440000003, -114.22...</td>\n",
       "    </tr>\n",
       "    <tr>\n",
       "      <th>73</th>\n",
       "      <td>2</td>\n",
       "      <td>64.650639</td>\n",
       "      <td>21647.184604</td>\n",
       "      <td>1</td>\n",
       "      <td>3788</td>\n",
       "      <td>93</td>\n",
       "      <td>(51.10154410000003, 51.13850440000003, -114.17...</td>\n",
       "    </tr>\n",
       "    <tr>\n",
       "      <th>74</th>\n",
       "      <td>0</td>\n",
       "      <td>0.000000</td>\n",
       "      <td>23391.003460</td>\n",
       "      <td>0</td>\n",
       "      <td>963</td>\n",
       "      <td>23</td>\n",
       "      <td>(51.10154410000003, 51.13850440000003, -114.13...</td>\n",
       "    </tr>\n",
       "    <tr>\n",
       "      <th>75</th>\n",
       "      <td>1</td>\n",
       "      <td>69.681946</td>\n",
       "      <td>33751.908397</td>\n",
       "      <td>1</td>\n",
       "      <td>3278</td>\n",
       "      <td>161</td>\n",
       "      <td>(51.10154410000003, 51.13850440000003, -114.08...</td>\n",
       "    </tr>\n",
       "    <tr>\n",
       "      <th>76</th>\n",
       "      <td>0</td>\n",
       "      <td>60.000000</td>\n",
       "      <td>19294.117647</td>\n",
       "      <td>0</td>\n",
       "      <td>267</td>\n",
       "      <td>25</td>\n",
       "      <td>(51.10154410000003, 51.13850440000003, -114.04...</td>\n",
       "    </tr>\n",
       "    <tr>\n",
       "      <th>77</th>\n",
       "      <td>0</td>\n",
       "      <td>58.506616</td>\n",
       "      <td>18288.261516</td>\n",
       "      <td>4</td>\n",
       "      <td>2615</td>\n",
       "      <td>80</td>\n",
       "      <td>(51.10154410000003, 51.13850440000003, -113.99...</td>\n",
       "    </tr>\n",
       "    <tr>\n",
       "      <th>78</th>\n",
       "      <td>0</td>\n",
       "      <td>91.402299</td>\n",
       "      <td>19832.713755</td>\n",
       "      <td>0</td>\n",
       "      <td>2837</td>\n",
       "      <td>81</td>\n",
       "      <td>(51.10154410000003, 51.13850440000003, -113.95...</td>\n",
       "    </tr>\n",
       "    <tr>\n",
       "      <th>79</th>\n",
       "      <td>0</td>\n",
       "      <td>0.000000</td>\n",
       "      <td>0.000000</td>\n",
       "      <td>0</td>\n",
       "      <td>0</td>\n",
       "      <td>0</td>\n",
       "      <td>(51.10154410000003, 51.13850440000003, -113.90...</td>\n",
       "    </tr>\n",
       "    <tr>\n",
       "      <th>80</th>\n",
       "      <td>0</td>\n",
       "      <td>0.000000</td>\n",
       "      <td>0.000000</td>\n",
       "      <td>0</td>\n",
       "      <td>0</td>\n",
       "      <td>0</td>\n",
       "      <td>(51.13850440000003, 51.175464700000035, -114.3...</td>\n",
       "    </tr>\n",
       "    <tr>\n",
       "      <th>81</th>\n",
       "      <td>0</td>\n",
       "      <td>75.454545</td>\n",
       "      <td>12898.773006</td>\n",
       "      <td>0</td>\n",
       "      <td>1480</td>\n",
       "      <td>10</td>\n",
       "      <td>(51.13850440000003, 51.175464700000035, -114.2...</td>\n",
       "    </tr>\n",
       "    <tr>\n",
       "      <th>82</th>\n",
       "      <td>1</td>\n",
       "      <td>56.352299</td>\n",
       "      <td>28350.931677</td>\n",
       "      <td>0</td>\n",
       "      <td>1341</td>\n",
       "      <td>32</td>\n",
       "      <td>(51.13850440000003, 51.175464700000035, -114.2...</td>\n",
       "    </tr>\n",
       "    <tr>\n",
       "      <th>83</th>\n",
       "      <td>1</td>\n",
       "      <td>58.658915</td>\n",
       "      <td>24163.934426</td>\n",
       "      <td>2</td>\n",
       "      <td>2142</td>\n",
       "      <td>84</td>\n",
       "      <td>(51.13850440000003, 51.175464700000035, -114.1...</td>\n",
       "    </tr>\n",
       "    <tr>\n",
       "      <th>84</th>\n",
       "      <td>2</td>\n",
       "      <td>57.828418</td>\n",
       "      <td>33696.930946</td>\n",
       "      <td>0</td>\n",
       "      <td>3086</td>\n",
       "      <td>79</td>\n",
       "      <td>(51.13850440000003, 51.175464700000035, -114.1...</td>\n",
       "    </tr>\n",
       "    <tr>\n",
       "      <th>85</th>\n",
       "      <td>0</td>\n",
       "      <td>62.316076</td>\n",
       "      <td>18897.170462</td>\n",
       "      <td>2</td>\n",
       "      <td>3376</td>\n",
       "      <td>94</td>\n",
       "      <td>(51.13850440000003, 51.175464700000035, -114.0...</td>\n",
       "    </tr>\n",
       "    <tr>\n",
       "      <th>86</th>\n",
       "      <td>2</td>\n",
       "      <td>64.002809</td>\n",
       "      <td>32529.953917</td>\n",
       "      <td>1</td>\n",
       "      <td>1403</td>\n",
       "      <td>55</td>\n",
       "      <td>(51.13850440000003, 51.175464700000035, -114.0...</td>\n",
       "    </tr>\n",
       "    <tr>\n",
       "      <th>87</th>\n",
       "      <td>2</td>\n",
       "      <td>68.893617</td>\n",
       "      <td>29355.329949</td>\n",
       "      <td>2</td>\n",
       "      <td>1681</td>\n",
       "      <td>63</td>\n",
       "      <td>(51.13850440000003, 51.175464700000035, -113.9...</td>\n",
       "    </tr>\n",
       "    <tr>\n",
       "      <th>88</th>\n",
       "      <td>0</td>\n",
       "      <td>83.888889</td>\n",
       "      <td>40318.584071</td>\n",
       "      <td>0</td>\n",
       "      <td>345</td>\n",
       "      <td>26</td>\n",
       "      <td>(51.13850440000003, 51.175464700000035, -113.9...</td>\n",
       "    </tr>\n",
       "    <tr>\n",
       "      <th>89</th>\n",
       "      <td>0</td>\n",
       "      <td>0.000000</td>\n",
       "      <td>0.000000</td>\n",
       "      <td>0</td>\n",
       "      <td>8</td>\n",
       "      <td>0</td>\n",
       "      <td>(51.13850440000003, 51.175464700000035, -113.9...</td>\n",
       "    </tr>\n",
       "    <tr>\n",
       "      <th>90</th>\n",
       "      <td>0</td>\n",
       "      <td>0.000000</td>\n",
       "      <td>0.000000</td>\n",
       "      <td>0</td>\n",
       "      <td>0</td>\n",
       "      <td>0</td>\n",
       "      <td>(51.175464700000035, 51.21242500000004, -114.3...</td>\n",
       "    </tr>\n",
       "    <tr>\n",
       "      <th>91</th>\n",
       "      <td>0</td>\n",
       "      <td>80.000000</td>\n",
       "      <td>3935.483871</td>\n",
       "      <td>0</td>\n",
       "      <td>18</td>\n",
       "      <td>0</td>\n",
       "      <td>(51.175464700000035, 51.21242500000004, -114.2...</td>\n",
       "    </tr>\n",
       "    <tr>\n",
       "      <th>92</th>\n",
       "      <td>0</td>\n",
       "      <td>73.709677</td>\n",
       "      <td>4842.105263</td>\n",
       "      <td>0</td>\n",
       "      <td>84</td>\n",
       "      <td>0</td>\n",
       "      <td>(51.175464700000035, 51.21242500000004, -114.2...</td>\n",
       "    </tr>\n",
       "    <tr>\n",
       "      <th>93</th>\n",
       "      <td>0</td>\n",
       "      <td>68.484848</td>\n",
       "      <td>5068.100358</td>\n",
       "      <td>0</td>\n",
       "      <td>845</td>\n",
       "      <td>11</td>\n",
       "      <td>(51.175464700000035, 51.21242500000004, -114.1...</td>\n",
       "    </tr>\n",
       "    <tr>\n",
       "      <th>94</th>\n",
       "      <td>0</td>\n",
       "      <td>60.000000</td>\n",
       "      <td>1961.206897</td>\n",
       "      <td>0</td>\n",
       "      <td>644</td>\n",
       "      <td>2</td>\n",
       "      <td>(51.175464700000035, 51.21242500000004, -114.1...</td>\n",
       "    </tr>\n",
       "    <tr>\n",
       "      <th>95</th>\n",
       "      <td>0</td>\n",
       "      <td>68.205128</td>\n",
       "      <td>5485.294118</td>\n",
       "      <td>0</td>\n",
       "      <td>342</td>\n",
       "      <td>5</td>\n",
       "      <td>(51.175464700000035, 51.21242500000004, -114.0...</td>\n",
       "    </tr>\n",
       "    <tr>\n",
       "      <th>96</th>\n",
       "      <td>0</td>\n",
       "      <td>82.997602</td>\n",
       "      <td>68347.826087</td>\n",
       "      <td>0</td>\n",
       "      <td>52</td>\n",
       "      <td>22</td>\n",
       "      <td>(51.175464700000035, 51.21242500000004, -114.0...</td>\n",
       "    </tr>\n",
       "    <tr>\n",
       "      <th>97</th>\n",
       "      <td>0</td>\n",
       "      <td>71.236897</td>\n",
       "      <td>17750.000000</td>\n",
       "      <td>0</td>\n",
       "      <td>24</td>\n",
       "      <td>20</td>\n",
       "      <td>(51.175464700000035, 51.21242500000004, -113.9...</td>\n",
       "    </tr>\n",
       "    <tr>\n",
       "      <th>98</th>\n",
       "      <td>0</td>\n",
       "      <td>98.833333</td>\n",
       "      <td>40000.000000</td>\n",
       "      <td>0</td>\n",
       "      <td>2</td>\n",
       "      <td>1</td>\n",
       "      <td>(51.175464700000035, 51.21242500000004, -113.9...</td>\n",
       "    </tr>\n",
       "    <tr>\n",
       "      <th>99</th>\n",
       "      <td>0</td>\n",
       "      <td>0.000000</td>\n",
       "      <td>0.000000</td>\n",
       "      <td>0</td>\n",
       "      <td>0</td>\n",
       "      <td>0</td>\n",
       "      <td>(51.175464700000035, 51.21242500000004, -113.9...</td>\n",
       "    </tr>\n",
       "  </tbody>\n",
       "</table>\n",
       "</div>"
      ],
      "text/plain": [
       "    num_cameras  avg_speed    avg_volume  num_signal  num_signs  \\\n",
       "0             0   0.000000      0.000000           0          0   \n",
       "1             0   0.000000      0.000000           0          0   \n",
       "2             0   0.000000      0.000000           0          0   \n",
       "3             0   0.000000      0.000000           0          0   \n",
       "4             0   0.000000   2000.000000           0         54   \n",
       "5             1  55.063291   2509.433962           0        303   \n",
       "6             1  70.557621  11914.826498           0       1486   \n",
       "7             0  80.445545  17805.128205           0        753   \n",
       "8             0   0.000000      0.000000           0         27   \n",
       "9             0   0.000000      0.000000           0          5   \n",
       "10            0   0.000000      0.000000           0          0   \n",
       "11            0   0.000000      0.000000           0          0   \n",
       "12            0   0.000000  12352.941176           0         93   \n",
       "13            0   0.000000  14358.974359           0        241   \n",
       "14            0   0.000000  12285.475793           1       2409   \n",
       "15            3  59.489051  19579.357352           0       3895   \n",
       "16            1  73.303471  27660.766962           0       1488   \n",
       "17            2  69.007752  23421.978022           1       3478   \n",
       "18            1  75.272459  21129.657228           0       2425   \n",
       "19            0  76.341463   9000.000000           0         70   \n",
       "20            0   0.000000      0.000000           0          0   \n",
       "21            0   0.000000      0.000000           0          0   \n",
       "22            0   0.000000      0.000000           0          2   \n",
       "23            0  40.714286  10875.912409           0        417   \n",
       "24            0  55.751634  14508.226691           0       2699   \n",
       "25            5  54.561782  31692.235734           0       3442   \n",
       "26            0  63.678261  38376.114082           0       2693   \n",
       "27            5  70.959198  23227.102804           3       2370   \n",
       "28            0  66.107383  14836.065574           0       1078   \n",
       "29            0  60.000000      0.000000           0        119   \n",
       "30            0   0.000000      0.000000           0          0   \n",
       "31            0   0.000000      0.000000           0          0   \n",
       "32            0   0.000000      0.000000           0          0   \n",
       "33            0   0.000000   2571.428571           0        260   \n",
       "34            2  30.000000  21442.666667           1       3198   \n",
       "35            3  57.663934  18290.612245           0       5266   \n",
       "36            3  73.466767  37399.018806           1       3147   \n",
       "37            2  70.077320  16257.982120           0       1710   \n",
       "38            1  72.982998  14462.264151           0        417   \n",
       "39            0   0.000000  10200.000000           0        165   \n",
       "40            0   0.000000      0.000000           0          0   \n",
       "41            0  80.000000  17906.976744           0         68   \n",
       "42            0   0.000000  15631.578947           0       1359   \n",
       "43            0  40.000000  24648.829431           0       3023   \n",
       "44            3  40.790598  41029.411765           0       5720   \n",
       "45            9  67.763158  29633.191489           1       7203   \n",
       "46            5  76.513841  47646.044625           0       1801   \n",
       "47            1  67.184466  13521.739130           0       2712   \n",
       "48            0  69.797844  28179.487179           0        150   \n",
       "49            0  80.000000      0.000000           0          7   \n",
       "50            0   0.000000      0.000000           0          0   \n",
       "51            0  60.000000   8000.000000           0         63   \n",
       "52            0  60.000000  19318.890815           1       3838   \n",
       "53            2  58.500000  27780.487805           0       6468   \n",
       "54            8  44.541578  29086.923077           0      12664   \n",
       "55           22  30.205479  15870.370370           3      33352   \n",
       "56            5  77.162954  48142.142857           2       5585   \n",
       "57            5  60.000000  19009.925558           6       5514   \n",
       "58            0  70.686620  32221.957041           0       2099   \n",
       "59            0  80.000000  16000.000000           0        118   \n",
       "60            0   0.000000  44000.000000           0        116   \n",
       "61            0  58.776042  32582.887701           0        893   \n",
       "62            1  49.056604  17951.367781           0       3426   \n",
       "63            2  61.929825  25056.281407           3       6104   \n",
       "64            3  38.604119  27171.078115           1       6775   \n",
       "65            4  59.523810  25199.291408           1       7755   \n",
       "66            6  64.567757  37966.824645           0       2475   \n",
       "67            6  47.760342  21158.991228           1       4424   \n",
       "68            2  71.939597  34263.048017           0       2584   \n",
       "69            0   0.000000      0.000000           0         14   \n",
       "70            0   0.000000      0.000000           0         26   \n",
       "71            0  56.993007  25233.193277           1       2203   \n",
       "72            1  63.468085  20248.645394           0       4368   \n",
       "73            2  64.650639  21647.184604           1       3788   \n",
       "74            0   0.000000  23391.003460           0        963   \n",
       "75            1  69.681946  33751.908397           1       3278   \n",
       "76            0  60.000000  19294.117647           0        267   \n",
       "77            0  58.506616  18288.261516           4       2615   \n",
       "78            0  91.402299  19832.713755           0       2837   \n",
       "79            0   0.000000      0.000000           0          0   \n",
       "80            0   0.000000      0.000000           0          0   \n",
       "81            0  75.454545  12898.773006           0       1480   \n",
       "82            1  56.352299  28350.931677           0       1341   \n",
       "83            1  58.658915  24163.934426           2       2142   \n",
       "84            2  57.828418  33696.930946           0       3086   \n",
       "85            0  62.316076  18897.170462           2       3376   \n",
       "86            2  64.002809  32529.953917           1       1403   \n",
       "87            2  68.893617  29355.329949           2       1681   \n",
       "88            0  83.888889  40318.584071           0        345   \n",
       "89            0   0.000000      0.000000           0          8   \n",
       "90            0   0.000000      0.000000           0          0   \n",
       "91            0  80.000000   3935.483871           0         18   \n",
       "92            0  73.709677   4842.105263           0         84   \n",
       "93            0  68.484848   5068.100358           0        845   \n",
       "94            0  60.000000   1961.206897           0        644   \n",
       "95            0  68.205128   5485.294118           0        342   \n",
       "96            0  82.997602  68347.826087           0         52   \n",
       "97            0  71.236897  17750.000000           0         24   \n",
       "98            0  98.833333  40000.000000           0          2   \n",
       "99            0   0.000000      0.000000           0          0   \n",
       "\n",
       "    num_accidents                                        cell_bounds  \n",
       "0               0  (50.842822, 50.8797823, -114.315796, -114.2702...  \n",
       "1               0  (50.842822, 50.8797823, -114.2702069, -114.224...  \n",
       "2               0  (50.842822, 50.8797823, -114.2246178, -114.179...  \n",
       "3               0  (50.842822, 50.8797823, -114.1790287, -114.133...  \n",
       "4               0  (50.842822, 50.8797823, -114.1334396, -114.087...  \n",
       "5               7  (50.842822, 50.8797823, -114.0878505, -114.042...  \n",
       "6              17  (50.842822, 50.8797823, -114.0422614, -113.996...  \n",
       "7              13  (50.842822, 50.8797823, -113.9966723, -113.951...  \n",
       "8               0  (50.842822, 50.8797823, -113.9510832, -113.905...  \n",
       "9               0  (50.842822, 50.8797823, -113.9054941, -113.859...  \n",
       "10              0  (50.8797823, 50.916742600000006, -114.315796, ...  \n",
       "11              0  (50.8797823, 50.916742600000006, -114.2702069,...  \n",
       "12              1  (50.8797823, 50.916742600000006, -114.2246178,...  \n",
       "13              6  (50.8797823, 50.916742600000006, -114.1790287,...  \n",
       "14             50  (50.8797823, 50.916742600000006, -114.1334396,...  \n",
       "15            111  (50.8797823, 50.916742600000006, -114.0878505,...  \n",
       "16             27  (50.8797823, 50.916742600000006, -114.0422614,...  \n",
       "17            104  (50.8797823, 50.916742600000006, -113.9966723,...  \n",
       "18             35  (50.8797823, 50.916742600000006, -113.9510832,...  \n",
       "19              2  (50.8797823, 50.916742600000006, -113.9054941,...  \n",
       "20              0  (50.916742600000006, 50.95370290000001, -114.3...  \n",
       "21              0  (50.916742600000006, 50.95370290000001, -114.2...  \n",
       "22              0  (50.916742600000006, 50.95370290000001, -114.2...  \n",
       "23              9  (50.916742600000006, 50.95370290000001, -114.1...  \n",
       "24             46  (50.916742600000006, 50.95370290000001, -114.1...  \n",
       "25            154  (50.916742600000006, 50.95370290000001, -114.0...  \n",
       "26             96  (50.916742600000006, 50.95370290000001, -114.0...  \n",
       "27             93  (50.916742600000006, 50.95370290000001, -113.9...  \n",
       "28             27  (50.916742600000006, 50.95370290000001, -113.9...  \n",
       "29              0  (50.916742600000006, 50.95370290000001, -113.9...  \n",
       "30              0  (50.95370290000001, 50.990663200000014, -114.3...  \n",
       "31              0  (50.95370290000001, 50.990663200000014, -114.2...  \n",
       "32              0  (50.95370290000001, 50.990663200000014, -114.2...  \n",
       "33              0  (50.95370290000001, 50.990663200000014, -114.1...  \n",
       "34             88  (50.95370290000001, 50.990663200000014, -114.1...  \n",
       "35            225  (50.95370290000001, 50.990663200000014, -114.0...  \n",
       "36            149  (50.95370290000001, 50.990663200000014, -114.0...  \n",
       "37            104  (50.95370290000001, 50.990663200000014, -113.9...  \n",
       "38             38  (50.95370290000001, 50.990663200000014, -113.9...  \n",
       "39              0  (50.95370290000001, 50.990663200000014, -113.9...  \n",
       "40              0  (50.990663200000014, 51.02762350000002, -114.3...  \n",
       "41              1  (50.990663200000014, 51.02762350000002, -114.2...  \n",
       "42             15  (50.990663200000014, 51.02762350000002, -114.2...  \n",
       "43             69  (50.990663200000014, 51.02762350000002, -114.1...  \n",
       "44            303  (50.990663200000014, 51.02762350000002, -114.1...  \n",
       "45            307  (50.990663200000014, 51.02762350000002, -114.0...  \n",
       "46            297  (50.990663200000014, 51.02762350000002, -114.0...  \n",
       "47             63  (50.990663200000014, 51.02762350000002, -113.9...  \n",
       "48             36  (50.990663200000014, 51.02762350000002, -113.9...  \n",
       "49              0  (50.990663200000014, 51.02762350000002, -113.9...  \n",
       "50              0  (51.02762350000002, 51.06458380000002, -114.31...  \n",
       "51              3  (51.02762350000002, 51.06458380000002, -114.27...  \n",
       "52             45  (51.02762350000002, 51.06458380000002, -114.22...  \n",
       "53            107  (51.02762350000002, 51.06458380000002, -114.17...  \n",
       "54            326  (51.02762350000002, 51.06458380000002, -114.13...  \n",
       "55            465  (51.02762350000002, 51.06458380000002, -114.08...  \n",
       "56            362  (51.02762350000002, 51.06458380000002, -114.04...  \n",
       "57            259  (51.02762350000002, 51.06458380000002, -113.99...  \n",
       "58             84  (51.02762350000002, 51.06458380000002, -113.95...  \n",
       "59              5  (51.02762350000002, 51.06458380000002, -113.90...  \n",
       "60              5  (51.06458380000002, 51.10154410000003, -114.31...  \n",
       "61             14  (51.06458380000002, 51.10154410000003, -114.27...  \n",
       "62             44  (51.06458380000002, 51.10154410000003, -114.22...  \n",
       "63            123  (51.06458380000002, 51.10154410000003, -114.17...  \n",
       "64            161  (51.06458380000002, 51.10154410000003, -114.13...  \n",
       "65            238  (51.06458380000002, 51.10154410000003, -114.08...  \n",
       "66            354  (51.06458380000002, 51.10154410000003, -114.04...  \n",
       "67            290  (51.06458380000002, 51.10154410000003, -113.99...  \n",
       "68            127  (51.06458380000002, 51.10154410000003, -113.95...  \n",
       "69              0  (51.06458380000002, 51.10154410000003, -113.90...  \n",
       "70              0  (51.10154410000003, 51.13850440000003, -114.31...  \n",
       "71             26  (51.10154410000003, 51.13850440000003, -114.27...  \n",
       "72             67  (51.10154410000003, 51.13850440000003, -114.22...  \n",
       "73             93  (51.10154410000003, 51.13850440000003, -114.17...  \n",
       "74             23  (51.10154410000003, 51.13850440000003, -114.13...  \n",
       "75            161  (51.10154410000003, 51.13850440000003, -114.08...  \n",
       "76             25  (51.10154410000003, 51.13850440000003, -114.04...  \n",
       "77             80  (51.10154410000003, 51.13850440000003, -113.99...  \n",
       "78             81  (51.10154410000003, 51.13850440000003, -113.95...  \n",
       "79              0  (51.10154410000003, 51.13850440000003, -113.90...  \n",
       "80              0  (51.13850440000003, 51.175464700000035, -114.3...  \n",
       "81             10  (51.13850440000003, 51.175464700000035, -114.2...  \n",
       "82             32  (51.13850440000003, 51.175464700000035, -114.2...  \n",
       "83             84  (51.13850440000003, 51.175464700000035, -114.1...  \n",
       "84             79  (51.13850440000003, 51.175464700000035, -114.1...  \n",
       "85             94  (51.13850440000003, 51.175464700000035, -114.0...  \n",
       "86             55  (51.13850440000003, 51.175464700000035, -114.0...  \n",
       "87             63  (51.13850440000003, 51.175464700000035, -113.9...  \n",
       "88             26  (51.13850440000003, 51.175464700000035, -113.9...  \n",
       "89              0  (51.13850440000003, 51.175464700000035, -113.9...  \n",
       "90              0  (51.175464700000035, 51.21242500000004, -114.3...  \n",
       "91              0  (51.175464700000035, 51.21242500000004, -114.2...  \n",
       "92              0  (51.175464700000035, 51.21242500000004, -114.2...  \n",
       "93             11  (51.175464700000035, 51.21242500000004, -114.1...  \n",
       "94              2  (51.175464700000035, 51.21242500000004, -114.1...  \n",
       "95              5  (51.175464700000035, 51.21242500000004, -114.0...  \n",
       "96             22  (51.175464700000035, 51.21242500000004, -114.0...  \n",
       "97             20  (51.175464700000035, 51.21242500000004, -113.9...  \n",
       "98              1  (51.175464700000035, 51.21242500000004, -113.9...  \n",
       "99              0  (51.175464700000035, 51.21242500000004, -113.9...  "
      ]
     },
     "execution_count": 14,
     "metadata": {},
     "output_type": "execute_result"
    }
   ],
   "source": [
    "# adding location coordinates to the dictionary\n",
    "dict_data['cell_bounds'] = grid_cord\n",
    "\n",
    "# creating and displaying data frame\n",
    "df = pd.DataFrame(dict_data)\n",
    "df = df.replace(np.nan, 0)\n",
    "df\n"
   ]
  },
  {
   "cell_type": "markdown",
   "metadata": {},
   "source": [
    "# Heatmap for number of accidents in each grid"
   ]
  },
  {
   "cell_type": "code",
   "execution_count": 82,
   "metadata": {},
   "outputs": [
    {
     "data": {
      "text/plain": [
       "<matplotlib.colorbar.Colorbar at 0x275a1a425c8>"
      ]
     },
     "execution_count": 82,
     "metadata": {},
     "output_type": "execute_result"
    },
    {
     "data": {
      "image/png": "[encoded data removed]",
      "text/plain": [
       "<Figure size 432x288 with 2 Axes>"
      ]
     },
     "metadata": {
      "needs_background": "light"
     },
     "output_type": "display_data"
    }
   ],
   "source": [
    "# heatmap for accident data for each grid\n",
    "\n",
    "index = ['0', '1', '2', '3', '4','5','6','7','8','9']\n",
    "columns = ['0', '1', '2', '3', '4','5','6','7','8','9']\n",
    "fig, ax = plt.subplots()\n",
    "\n",
    "#x = np.reshape(list_data, (100, 28)).T\n",
    "list_accidents = list(df['num_accidents'])\n",
    "np_list = np.reshape(list_accidents, (10, 10))\n",
    "df_plot_accident = pd.DataFrame(np_list, index=index, columns=columns)\n",
    "\n",
    "heatmap = ax.pcolor(df_plot_accident, cmap=plt.cm.Blues)\n",
    "fig.colorbar(heatmap)\n",
    "# plt.pcolor(df_plot_accident)\n"
   ]
  },
  {
   "cell_type": "markdown",
   "metadata": {},
   "source": []
  },
  {
   "cell_type": "markdown",
   "metadata": {},
   "source": [
    "# Heatmap for average volume of traffic in each grid\n"
   ]
  },
  {
   "cell_type": "code",
   "execution_count": 104,
   "metadata": {},
   "outputs": [
    {
     "data": {
      "text/plain": [
       "<matplotlib.colorbar.Colorbar at 0x275a23d4b48>"
      ]
     },
     "execution_count": 104,
     "metadata": {},
     "output_type": "execute_result"
    },
    {
     "data": {
      "image/png": "[encoded data removed]",
      "text/plain": [
       "<Figure size 432x288 with 2 Axes>"
      ]
     },
     "metadata": {
      "needs_background": "light"
     },
     "output_type": "display_data"
    }
   ],
   "source": [
    "# heatmapfor volume data for ecah grid\n",
    "\n",
    "fig1, ax1 = plt.subplots()\n",
    "\n",
    "index = ['0', '1', '2', '3', '4','5','6','7','8','9']\n",
    "columns = ['0', '1', '2', '3', '4','5','6','7','8','9']\n",
    "#x = np.reshape(list_data, (100, 28)).T\n",
    "list_volume_heat = list(df['avg_volume'])\n",
    "np_list_volume = np.reshape(list_volume_heat, (10, 10))\n",
    "df_plot_volume = pd.DataFrame(np_list_volume, index=index, columns=columns)\n",
    "# plt.xlabel(\"Values on X axis\")\n",
    "\n",
    "heatmap = ax1.pcolor(df_plot_volume, cmap=plt.cm.Blues)\n",
    "fig1.colorbar(heatmap)"
   ]
  },
  {
   "cell_type": "markdown",
   "metadata": {},
   "source": [
    "# Heatmap for camera count in each grid\n"
   ]
  },
  {
   "cell_type": "code",
   "execution_count": 112,
   "metadata": {},
   "outputs": [
    {
     "data": {
      "text/plain": [
       "<matplotlib.colorbar.Colorbar at 0x275a5443cc8>"
      ]
     },
     "execution_count": 112,
     "metadata": {},
     "output_type": "execute_result"
    },
    {
     "data": {
      "image/png": "[encoded data removed]",
      "text/plain": [
       "<Figure size 432x288 with 2 Axes>"
      ]
     },
     "metadata": {
      "needs_background": "light"
     },
     "output_type": "display_data"
    }
   ],
   "source": [
    "# Heatmap for camera count in each grid\n",
    "\n",
    "fig1, ax1 = plt.subplots()\n",
    "\n",
    "index = ['0', '1', '2', '3', '4','5','6','7','8','9']\n",
    "columns = ['0', '1', '2', '3', '4','5','6','7','8','9']\n",
    "#x = np.reshape(list_data, (100, 28)).T\n",
    "list_camera_heat = list(df['num_cameras'])\n",
    "np_list_camera = np.reshape(list_camera_heat, (10, 10))\n",
    "df_plot_camera = pd.DataFrame(np_list_camera, index=index, columns=columns)\n",
    "# plt.xlabel(\"Values on X axis\")\n",
    "\n",
    "heatmap = ax1.pcolor(df_plot_camera, cmap=plt.cm.Blues)\n",
    "fig1.colorbar(heatmap)"
   ]
  },
  {
   "cell_type": "markdown",
   "metadata": {},
   "source": [
    "# Heatmap for average speed limit of traffic in each grid\n"
   ]
  },
  {
   "cell_type": "code",
   "execution_count": 114,
   "metadata": {},
   "outputs": [
    {
     "data": {
      "text/plain": [
       "<matplotlib.colorbar.Colorbar at 0x275a56c1b48>"
      ]
     },
     "execution_count": 114,
     "metadata": {},
     "output_type": "execute_result"
    },
    {
     "data": {
      "image/png": "[encoded data removed]",
      "text/plain": [
       "<Figure size 432x288 with 2 Axes>"
      ]
     },
     "metadata": {
      "needs_background": "light"
     },
     "output_type": "display_data"
    }
   ],
   "source": [
    "# Heatmap for average speed limit of traffic in each grid\n",
    "\n",
    "fig1, ax1 = plt.subplots()\n",
    "\n",
    "index = ['0', '1', '2', '3', '4','5','6','7','8','9']\n",
    "columns = ['0', '1', '2', '3', '4','5','6','7','8','9']\n",
    "#x = np.reshape(list_data, (100, 28)).T\n",
    "list_speed_heat = list(df['avg_speed'])\n",
    "np_list_speed = np.reshape(list_speed_heat, (10, 10))\n",
    "df_plot_speed = pd.DataFrame(np_list_speed, index=index, columns=columns)\n",
    "# plt.xlabel(\"Values on X axis\")\n",
    "\n",
    "heatmap = ax1.pcolor(df_plot_speed, cmap=plt.cm.Blues)\n",
    "fig1.colorbar(heatmap)"
   ]
  },
  {
   "cell_type": "markdown",
   "metadata": {},
   "source": [
    "# Heatmap for count of signals in each grid\n"
   ]
  },
  {
   "cell_type": "code",
   "execution_count": 115,
   "metadata": {},
   "outputs": [
    {
     "data": {
      "text/plain": [
       "<matplotlib.colorbar.Colorbar at 0x275a58240c8>"
      ]
     },
     "execution_count": 115,
     "metadata": {},
     "output_type": "execute_result"
    },
    {
     "data": {
      "image/png": "[encoded data removed]",
      "text/plain": [
       "<Figure size 432x288 with 2 Axes>"
      ]
     },
     "metadata": {
      "needs_background": "light"
     },
     "output_type": "display_data"
    }
   ],
   "source": [
    "# Heatmap for count of signals in each grid\n",
    "\n",
    "fig1, ax1 = plt.subplots()\n",
    "\n",
    "index = ['0', '1', '2', '3', '4','5','6','7','8','9']\n",
    "columns = ['0', '1', '2', '3', '4','5','6','7','8','9']\n",
    "#x = np.reshape(list_data, (100, 28)).T\n",
    "list_signal_heat = list(df['num_signal'])\n",
    "np_list_signal = np.reshape(list_signal_heat, (10, 10))\n",
    "df_plot_signal = pd.DataFrame(np_list_signal, index=index, columns=columns)\n",
    "# plt.xlabel(\"Values on X axis\")\n",
    "\n",
    "heatmap = ax1.pcolor(df_plot_signal, cmap=plt.cm.Blues)\n",
    "fig1.colorbar(heatmap)"
   ]
  },
  {
   "cell_type": "markdown",
   "metadata": {},
   "source": [
    "# Heatmap for count of signs in each grid\n"
   ]
  },
  {
   "cell_type": "code",
   "execution_count": 117,
   "metadata": {},
   "outputs": [
    {
     "data": {
      "text/plain": [
       "<matplotlib.colorbar.Colorbar at 0x275a5c2acc8>"
      ]
     },
     "execution_count": 117,
     "metadata": {},
     "output_type": "execute_result"
    },
    {
     "data": {
      "image/png": "[encoded data removed]",
      "text/plain": [
       "<Figure size 432x288 with 2 Axes>"
      ]
     },
     "metadata": {
      "needs_background": "light"
     },
     "output_type": "display_data"
    }
   ],
   "source": [
    "# Heatmap for count of signs in each grid\n",
    "\n",
    "fig1, ax1 = plt.subplots()\n",
    "\n",
    "index = ['0', '1', '2', '3', '4','5','6','7','8','9']\n",
    "columns = ['0', '1', '2', '3', '4','5','6','7','8','9']\n",
    "#x = np.reshape(list_data, (100, 28)).T\n",
    "list_sign_heat = list(df['num_signs'])\n",
    "np_list_sign = np.reshape(list_sign_heat, (10, 10))\n",
    "df_plot_sign = pd.DataFrame(np_list_sign, index=index, columns=columns)\n",
    "# plt.xlabel(\"Values on X axis\")\n",
    "\n",
    "heatmap = ax1.pcolor(df_plot_sign, cmap=plt.cm.Blues)\n",
    "fig1.colorbar(heatmap)"
   ]
  },
  {
   "cell_type": "markdown",
   "metadata": {},
   "source": [
    "# Analysing weather conditions\n",
    "Weather conditions are calculated for the year 2018. The weather condition is considered same through out the calgary city."
   ]
  },
  {
   "cell_type": "code",
   "execution_count": 15,
   "metadata": {},
   "outputs": [],
   "source": [
    "# function for reading the calgary weather data\n",
    "\n",
    "def download_weather_data(station, year, month=1, daily=True):\n",
    "    \"\"\" returns a DataFrame with weather data from climate.weather.gc.ca\"\"\"\n",
    "   # url string with variables station, year and month\n",
    "    url_template = \"https://climate.weather.gc.ca/climate_data/bulk_data_e.html?format=csv&stationID={station}&Year={year}&Month={month}&Day=14&timeframe={time_frame}&submit=Download+Data\"\n",
    "\n",
    "    # replace variables in string with actual values\n",
    "    if daily:\n",
    "        url = url_template.format(station = station, year = year, month = month, time_frame = 2)\n",
    "    else:\n",
    "        url = url_template.format(station= station, year = year, month = month, time_frame = 1)\n",
    "\n",
    "    # read data into dataframe, use headers and set Date/Time column as index\n",
    "    weather_data = pd.read_csv(url, index_col='Date/Time', parse_dates=True)\n",
    "\n",
    "    # replace the degree symbol in the column names\n",
    "    weather_data.columns = [col.replace('\\xb0', '') for col in weather_data.columns]\n",
    "    \n",
    "    return (weather_data)"
   ]
  },
  {
   "cell_type": "code",
   "execution_count": 16,
   "metadata": {},
   "outputs": [
    {
     "data": {
      "text/html": [
       "<div>\n",
       "<style scoped>\n",
       "    .dataframe tbody tr th:only-of-type {\n",
       "        vertical-align: middle;\n",
       "    }\n",
       "\n",
       "    .dataframe tbody tr th {\n",
       "        vertical-align: top;\n",
       "    }\n",
       "\n",
       "    .dataframe thead th {\n",
       "        text-align: right;\n",
       "    }\n",
       "</style>\n",
       "<table border=\"1\" class=\"dataframe\">\n",
       "  <thead>\n",
       "    <tr style=\"text-align: right;\">\n",
       "      <th></th>\n",
       "      <th>Date/Time</th>\n",
       "      <th>Temp (C)</th>\n",
       "      <th>Visibility (km)</th>\n",
       "    </tr>\n",
       "  </thead>\n",
       "  <tbody>\n",
       "    <tr>\n",
       "      <th>0</th>\n",
       "      <td>2018-01-01 00:00:00</td>\n",
       "      <td>-28.1</td>\n",
       "      <td>24.1</td>\n",
       "    </tr>\n",
       "    <tr>\n",
       "      <th>1</th>\n",
       "      <td>2018-01-01 01:00:00</td>\n",
       "      <td>-28.6</td>\n",
       "      <td>24.1</td>\n",
       "    </tr>\n",
       "    <tr>\n",
       "      <th>2</th>\n",
       "      <td>2018-01-01 02:00:00</td>\n",
       "      <td>-29.1</td>\n",
       "      <td>24.1</td>\n",
       "    </tr>\n",
       "    <tr>\n",
       "      <th>3</th>\n",
       "      <td>2018-01-01 03:00:00</td>\n",
       "      <td>-30.0</td>\n",
       "      <td>24.1</td>\n",
       "    </tr>\n",
       "    <tr>\n",
       "      <th>4</th>\n",
       "      <td>2018-01-01 04:00:00</td>\n",
       "      <td>-27.6</td>\n",
       "      <td>24.1</td>\n",
       "    </tr>\n",
       "    <tr>\n",
       "      <th>5</th>\n",
       "      <td>2018-01-01 05:00:00</td>\n",
       "      <td>-27.1</td>\n",
       "      <td>24.1</td>\n",
       "    </tr>\n",
       "    <tr>\n",
       "      <th>6</th>\n",
       "      <td>2018-01-01 06:00:00</td>\n",
       "      <td>-26.6</td>\n",
       "      <td>24.1</td>\n",
       "    </tr>\n",
       "    <tr>\n",
       "      <th>7</th>\n",
       "      <td>2018-01-01 07:00:00</td>\n",
       "      <td>-22.7</td>\n",
       "      <td>24.1</td>\n",
       "    </tr>\n",
       "    <tr>\n",
       "      <th>8</th>\n",
       "      <td>2018-01-01 08:00:00</td>\n",
       "      <td>-22.3</td>\n",
       "      <td>64.4</td>\n",
       "    </tr>\n",
       "    <tr>\n",
       "      <th>9</th>\n",
       "      <td>2018-01-01 09:00:00</td>\n",
       "      <td>-19.8</td>\n",
       "      <td>64.4</td>\n",
       "    </tr>\n",
       "  </tbody>\n",
       "</table>\n",
       "</div>"
      ],
      "text/plain": [
       "            Date/Time  Temp (C)  Visibility (km)\n",
       "0 2018-01-01 00:00:00     -28.1             24.1\n",
       "1 2018-01-01 01:00:00     -28.6             24.1\n",
       "2 2018-01-01 02:00:00     -29.1             24.1\n",
       "3 2018-01-01 03:00:00     -30.0             24.1\n",
       "4 2018-01-01 04:00:00     -27.6             24.1\n",
       "5 2018-01-01 05:00:00     -27.1             24.1\n",
       "6 2018-01-01 06:00:00     -26.6             24.1\n",
       "7 2018-01-01 07:00:00     -22.7             24.1\n",
       "8 2018-01-01 08:00:00     -22.3             64.4\n",
       "9 2018-01-01 09:00:00     -19.8             64.4"
      ]
     },
     "execution_count": 16,
     "metadata": {},
     "output_type": "execute_result"
    }
   ],
   "source": [
    "# fetching the hourly weather data for year 2018 and creating the dataframe for the same\n",
    "df_weather = download_weather_data(station=50430, year=2018, month=1, daily = False)\n",
    "\n",
    "# fetching data for all the months\n",
    "for i in range(2,13):\n",
    "    df_weather1 = download_weather_data(station=50430, year=2018, month=i, daily = False)\n",
    "    # appending data to data frame\n",
    "    df_weather = pd.concat([df_weather,df_weather1])\n",
    "    \n",
    "# accessing visibility, temp, and date/time\n",
    "df_weather_cleaned = df_weather[['Temp (C)','Visibility (km)']]\n",
    "df_weather_cleaned.reset_index(inplace = True)\n",
    "df_weather_cleaned.head(10)"
   ]
  },
  {
   "cell_type": "code",
   "execution_count": 111,
   "metadata": {},
   "outputs": [
    {
     "name": "stderr",
     "output_type": "stream",
     "text": [
      "C:\\Users\\nehas\\anaconda3\\lib\\site-packages\\ipykernel_launcher.py:4: SettingWithCopyWarning: \n",
      "A value is trying to be set on a copy of a slice from a DataFrame.\n",
      "Try using .loc[row_indexer,col_indexer] = value instead\n",
      "\n",
      "See the caveats in the documentation: https://pandas.pydata.org/pandas-docs/stable/user_guide/indexing.html#returning-a-view-versus-a-copy\n",
      "  after removing the cwd from sys.path.\n"
     ]
    },
    {
     "data": {
      "text/html": [
       "<div>\n",
       "<style scoped>\n",
       "    .dataframe tbody tr th:only-of-type {\n",
       "        vertical-align: middle;\n",
       "    }\n",
       "\n",
       "    .dataframe tbody tr th {\n",
       "        vertical-align: top;\n",
       "    }\n",
       "\n",
       "    .dataframe thead th {\n",
       "        text-align: right;\n",
       "    }\n",
       "</style>\n",
       "<table border=\"1\" class=\"dataframe\">\n",
       "  <thead>\n",
       "    <tr style=\"text-align: right;\">\n",
       "      <th></th>\n",
       "      <th>Date</th>\n",
       "      <th>Count</th>\n",
       "    </tr>\n",
       "  </thead>\n",
       "  <tbody>\n",
       "    <tr>\n",
       "      <th>0</th>\n",
       "      <td>2018-01-01</td>\n",
       "      <td>12</td>\n",
       "    </tr>\n",
       "    <tr>\n",
       "      <th>1</th>\n",
       "      <td>2018-01-02</td>\n",
       "      <td>30</td>\n",
       "    </tr>\n",
       "    <tr>\n",
       "      <th>2</th>\n",
       "      <td>2018-01-03</td>\n",
       "      <td>26</td>\n",
       "    </tr>\n",
       "    <tr>\n",
       "      <th>3</th>\n",
       "      <td>2018-01-04</td>\n",
       "      <td>22</td>\n",
       "    </tr>\n",
       "    <tr>\n",
       "      <th>4</th>\n",
       "      <td>2018-01-05</td>\n",
       "      <td>20</td>\n",
       "    </tr>\n",
       "  </tbody>\n",
       "</table>\n",
       "</div>"
      ],
      "text/plain": [
       "        Date  Count\n",
       "0 2018-01-01     12\n",
       "1 2018-01-02     30\n",
       "2 2018-01-03     26\n",
       "3 2018-01-04     22\n",
       "4 2018-01-05     20"
      ]
     },
     "execution_count": 111,
     "metadata": {},
     "output_type": "execute_result"
    }
   ],
   "source": [
    "# reassembling accidents data count for each day\n",
    "\n",
    "df_accidents_cleaned = df_incident[['START_DT','Count']]\n",
    "df_accidents_cleaned['Date'] = pd.to_datetime(df_accidents_cleaned['START_DT'])\n",
    "df_accidents_sample = df_accidents_cleaned.resample('D', on='Date').sum()\n",
    "df_accidents_sample.reset_index(inplace=True)\n",
    "df_accidents_sample = df_accidents_sample[df_accidents_sample['Date'].between('2018-01-01', '2018-12-31', inclusive = True)]\n",
    "df_accidents_sample.head()"
   ]
  },
  {
   "cell_type": "code",
   "execution_count": 19,
   "metadata": {},
   "outputs": [
    {
     "data": {
      "text/html": [
       "<div>\n",
       "<style scoped>\n",
       "    .dataframe tbody tr th:only-of-type {\n",
       "        vertical-align: middle;\n",
       "    }\n",
       "\n",
       "    .dataframe tbody tr th {\n",
       "        vertical-align: top;\n",
       "    }\n",
       "\n",
       "    .dataframe thead th {\n",
       "        text-align: right;\n",
       "    }\n",
       "</style>\n",
       "<table border=\"1\" class=\"dataframe\">\n",
       "  <thead>\n",
       "    <tr style=\"text-align: right;\">\n",
       "      <th></th>\n",
       "      <th>Date</th>\n",
       "      <th>Count</th>\n",
       "      <th>Temp (C)</th>\n",
       "      <th>Visibility (km)</th>\n",
       "    </tr>\n",
       "  </thead>\n",
       "  <tbody>\n",
       "    <tr>\n",
       "      <th>0</th>\n",
       "      <td>2018-01-01</td>\n",
       "      <td>12</td>\n",
       "      <td>-16.683333</td>\n",
       "      <td>42.570833</td>\n",
       "    </tr>\n",
       "    <tr>\n",
       "      <th>1</th>\n",
       "      <td>2018-01-02</td>\n",
       "      <td>30</td>\n",
       "      <td>-3.787500</td>\n",
       "      <td>40.891667</td>\n",
       "    </tr>\n",
       "    <tr>\n",
       "      <th>2</th>\n",
       "      <td>2018-01-03</td>\n",
       "      <td>26</td>\n",
       "      <td>-2.391667</td>\n",
       "      <td>39.212500</td>\n",
       "    </tr>\n",
       "    <tr>\n",
       "      <th>3</th>\n",
       "      <td>2018-01-04</td>\n",
       "      <td>22</td>\n",
       "      <td>-5.016667</td>\n",
       "      <td>40.891667</td>\n",
       "    </tr>\n",
       "    <tr>\n",
       "      <th>4</th>\n",
       "      <td>2018-01-05</td>\n",
       "      <td>20</td>\n",
       "      <td>-0.345833</td>\n",
       "      <td>40.891667</td>\n",
       "    </tr>\n",
       "    <tr>\n",
       "      <th>5</th>\n",
       "      <td>2018-01-06</td>\n",
       "      <td>10</td>\n",
       "      <td>3.666667</td>\n",
       "      <td>39.550000</td>\n",
       "    </tr>\n",
       "    <tr>\n",
       "      <th>6</th>\n",
       "      <td>2018-01-07</td>\n",
       "      <td>6</td>\n",
       "      <td>-0.166667</td>\n",
       "      <td>40.020833</td>\n",
       "    </tr>\n",
       "    <tr>\n",
       "      <th>7</th>\n",
       "      <td>2018-01-08</td>\n",
       "      <td>10</td>\n",
       "      <td>1.475000</td>\n",
       "      <td>39.212500</td>\n",
       "    </tr>\n",
       "    <tr>\n",
       "      <th>8</th>\n",
       "      <td>2018-01-09</td>\n",
       "      <td>14</td>\n",
       "      <td>-9.854167</td>\n",
       "      <td>16.370833</td>\n",
       "    </tr>\n",
       "    <tr>\n",
       "      <th>9</th>\n",
       "      <td>2018-01-10</td>\n",
       "      <td>30</td>\n",
       "      <td>-21.625000</td>\n",
       "      <td>10.587500</td>\n",
       "    </tr>\n",
       "  </tbody>\n",
       "</table>\n",
       "</div>"
      ],
      "text/plain": [
       "        Date  Count   Temp (C)  Visibility (km)\n",
       "0 2018-01-01     12 -16.683333        42.570833\n",
       "1 2018-01-02     30  -3.787500        40.891667\n",
       "2 2018-01-03     26  -2.391667        39.212500\n",
       "3 2018-01-04     22  -5.016667        40.891667\n",
       "4 2018-01-05     20  -0.345833        40.891667\n",
       "5 2018-01-06     10   3.666667        39.550000\n",
       "6 2018-01-07      6  -0.166667        40.020833\n",
       "7 2018-01-08     10   1.475000        39.212500\n",
       "8 2018-01-09     14  -9.854167        16.370833\n",
       "9 2018-01-10     30 -21.625000        10.587500"
      ]
     },
     "execution_count": 19,
     "metadata": {},
     "output_type": "execute_result"
    }
   ],
   "source": [
    "# Computing daily visibilty and temperature from the hourly data\n",
    "\n",
    "# resampling the data on date/time for getting daily values\n",
    "df_weather_cleaned_sample = df_weather_cleaned.resample('D', on='Date/Time').mean()\n",
    "df_weather_cleaned_sample.reset_index(inplace=True)\n",
    "df_weather_cleaned_sample.head()\n",
    "\n",
    "# maerging the weather data with accident count based on dates\n",
    "df_weather_cleaned_sample = df_weather_cleaned_sample.reset_index()\n",
    "df_merged_acc_weather = pd.merge(df_accidents_sample, df_weather_cleaned_sample, left_on = 'Date', right_on = 'Date/Time')\n",
    "\n",
    "df_merged_acc_weather_final = df_merged_acc_weather[['Date','Count','Temp (C)','Visibility (km)']]\n",
    "df_merged_acc_weather_final.head(10)\n"
   ]
  },
  {
   "cell_type": "code",
   "execution_count": null,
   "metadata": {},
   "outputs": [],
   "source": []
  },
  {
   "cell_type": "code",
   "execution_count": null,
   "metadata": {},
   "outputs": [],
   "source": []
  },
  {
   "cell_type": "markdown",
   "metadata": {},
   "source": [
    "# Analysis of accident with cameras"
   ]
  },
  {
   "cell_type": "code",
   "execution_count": 20,
   "metadata": {},
   "outputs": [
    {
     "data": {
      "text/plain": [
       "Text(0, 0.5, 'Number of accidents')"
      ]
     },
     "execution_count": 20,
     "metadata": {},
     "output_type": "execute_result"
    },
    {
     "data": {
      "image/png": "[encoded data removed]",
      "text/plain": [
       "<Figure size 864x288 with 1 Axes>"
      ]
     },
     "metadata": {
      "needs_background": "light"
     },
     "output_type": "display_data"
    }
   ],
   "source": [
    "# Box Plot for number of accidents vs number of cameras in each grid\n",
    "f, (ax) = plt.subplots(1, 1, figsize=(12, 4))\n",
    "f.suptitle('Accident against cameras', fontsize=14)\n",
    "\n",
    "sns.boxplot(x=\"num_cameras\", y=\"num_accidents\", data=df,  ax=ax)\n",
    "ax.set_xlabel(\"Number of cameras\",size = 12,alpha=0.8)\n",
    "ax.set_ylabel(\"Number of accidents\",size = 12,alpha=0.8)"
   ]
  },
  {
   "cell_type": "markdown",
   "metadata": {},
   "source": [
    "# Conclusion:\n",
    "As the camera count is increasing for accident count in the plot,\n",
    "it signifies that large numebr of cameras are installed in areas where more number of accidents happen."
   ]
  },
  {
   "cell_type": "markdown",
   "metadata": {},
   "source": [
    "# Analysis of accident with volume"
   ]
  },
  {
   "cell_type": "code",
   "execution_count": 106,
   "metadata": {},
   "outputs": [
    {
     "data": {
      "text/plain": [
       "Text(0, 0.5, 'Number of accidents')"
      ]
     },
     "execution_count": 106,
     "metadata": {},
     "output_type": "execute_result"
    },
    {
     "data": {
      "image/png": "[encoded data removed]",
      "text/plain": [
       "<Figure size 1080x288 with 1 Axes>"
      ]
     },
     "metadata": {
      "needs_background": "light"
     },
     "output_type": "display_data"
    }
   ],
   "source": [
    "# Box Plots\n",
    "# to be updated\n",
    "f, (ax) = plt.subplots(1, 1, figsize=(15, 4))\n",
    "f.suptitle('Accident against Volume', fontsize=14)\n",
    "\n",
    "g = sns.boxplot(x=\"avg_volume\", y=\"num_accidents\", data=df,  ax=ax)\n",
    "ax.set_xlabel(\"Average Volume\",size = 12,alpha=0.8)\n",
    "ax.set_ylabel(\"Number of accidents\",size = 12,alpha=0.8)\n",
    "# g.set_xticklabels(g.get_xticklabels(), rotation=45, horizontalalignment='right')\n"
   ]
  },
  {
   "cell_type": "markdown",
   "metadata": {},
   "source": [
    "# Conclusion:\n",
    "As seen, the average volume is increasing proportionally for accident count in the plot,\n",
    "it signifies that the volume of vehicles was higher where higher number of accicents took place.\n",
    "Similarly, spearman average volume correlation value: 0.81073 also shows the same. \n"
   ]
  },
  {
   "cell_type": "code",
   "execution_count": 22,
   "metadata": {},
   "outputs": [
    {
     "name": "stderr",
     "output_type": "stream",
     "text": [
      "No handles with labels found to put in legend.\n"
     ]
    },
    {
     "data": {
      "image/png": "[encoded data removed]",
      "text/plain": [
       "<Figure size 864x288 with 1 Axes>"
      ]
     },
     "metadata": {
      "needs_background": "light"
     },
     "output_type": "display_data"
    }
   ],
   "source": [
    "#fig = plt.figure()\n",
    "fig,ax = plt.subplots(figsize=(12,4))\n",
    "#ax = fig.add_subplot(111)\n",
    "\n",
    "ax.scatter(y=df['avg_volume'], x=df['num_accidents'])\n",
    "\n",
    "plt.legend(loc='upper right')\n",
    "\n",
    "plt.show()"
   ]
  },
  {
   "cell_type": "markdown",
   "metadata": {},
   "source": [
    "# Analysis of accident with signs"
   ]
  },
  {
   "cell_type": "code",
   "execution_count": 24,
   "metadata": {},
   "outputs": [
    {
     "data": {
      "text/plain": [
       "Text(0, 0.5, 'Number of accidents')"
      ]
     },
     "execution_count": 24,
     "metadata": {},
     "output_type": "execute_result"
    },
    {
     "data": {
      "image/png": "[encoded data removed]",
      "text/plain": [
       "<Figure size 1440x288 with 1 Axes>"
      ]
     },
     "metadata": {
      "needs_background": "light"
     },
     "output_type": "display_data"
    }
   ],
   "source": [
    "# Box Plots\n",
    "f, (ax) = plt.subplots(1, 1, figsize=(20, 4))\n",
    "f.suptitle('Accident count Vs number of signs', fontsize=14)\n",
    "sns.stripplot(y=\"num_signs\", x=\"num_accidents\", data=df,  jitter=0.05)\n",
    "ax.set_xlabel(\"Number of signs\",size = 12,alpha=0.8)\n",
    "ax.set_ylabel(\"Number of accidents\",size = 12,alpha=0.8)"
   ]
  },
  {
   "cell_type": "markdown",
   "metadata": {},
   "source": [
    "# Conclusion:\n",
    "As seen, the count of signs is slightly increasing proportionally for accident count in the plot,\n",
    "it signifies that the number of signs installed at different locations is more at locations where more number of accidents took place. \n",
    "Similarly, spearman signals correlation value: 0.86619 also shows the same. "
   ]
  },
  {
   "cell_type": "markdown",
   "metadata": {},
   "source": [
    "# Analysis of accident with signals"
   ]
  },
  {
   "cell_type": "code",
   "execution_count": 110,
   "metadata": {},
   "outputs": [
    {
     "data": {
      "text/plain": [
       "Text(0, 0.5, 'Number of accidents')"
      ]
     },
     "execution_count": 110,
     "metadata": {},
     "output_type": "execute_result"
    },
    {
     "data": {
      "image/png": "[encoded data removed]",
      "text/plain": [
       "<Figure size 1440x288 with 1 Axes>"
      ]
     },
     "metadata": {
      "needs_background": "light"
     },
     "output_type": "display_data"
    }
   ],
   "source": [
    "# Box Plots\n",
    "f, (ax) = plt.subplots(1, 1, figsize=(20, 4))\n",
    "f.suptitle('Accident count Vs number of signals', fontsize=14)\n",
    "sns.stripplot(y=\"num_signal\", x=\"num_accidents\", data=df,  jitter=0.05)\n",
    "ax.set_xlabel(\"Number of signal\",size = 12,alpha=0.8)\n",
    "ax.set_ylabel(\"Number of accidents\",size = 12,alpha=0.8)"
   ]
  },
  {
   "cell_type": "markdown",
   "metadata": {},
   "source": [
    "# Conclusion:\n",
    "As seen, the count of signals is increasing proportionally for accident count in the plot,\n",
    "it signifies that the number of signals installed at different locations is more at locations where more number of accidents took place.\n",
    "Similarly, spearman signals correlation value: 0.550450 also shows the same. "
   ]
  },
  {
   "cell_type": "code",
   "execution_count": 64,
   "metadata": {},
   "outputs": [
    {
     "data": {
      "text/plain": [
       "Text(0, 0.5, 'Number of accidents')"
      ]
     },
     "execution_count": 64,
     "metadata": {},
     "output_type": "execute_result"
    },
    {
     "data": {
      "image/png": "[encoded data removed]",
      "text/plain": [
       "<Figure size 864x288 with 1 Axes>"
      ]
     },
     "metadata": {
      "needs_background": "light"
     },
     "output_type": "display_data"
    }
   ],
   "source": [
    "# Box Plots\n",
    "f, (ax) = plt.subplots(1, 1, figsize=(12, 4))\n",
    "f.suptitle('Accident Count Vs Signals', fontsize=14)\n",
    "\n",
    "sns.boxplot(x=\"num_signal\",y=\"num_accidents\", data=df,  ax=ax)\n",
    "ax.set_xlabel(\"Total signals\",size = 12,alpha=0.8)\n",
    "ax.set_ylabel(\"Number of accidents\",size = 12,alpha=0.8)"
   ]
  },
  {
   "cell_type": "markdown",
   "metadata": {},
   "source": [
    "# Analysis of number of accidents and weather"
   ]
  },
  {
   "cell_type": "code",
   "execution_count": 31,
   "metadata": {},
   "outputs": [
    {
     "data": {
      "text/html": [
       "<div>\n",
       "<style scoped>\n",
       "    .dataframe tbody tr th:only-of-type {\n",
       "        vertical-align: middle;\n",
       "    }\n",
       "\n",
       "    .dataframe tbody tr th {\n",
       "        vertical-align: top;\n",
       "    }\n",
       "\n",
       "    .dataframe thead th {\n",
       "        text-align: right;\n",
       "    }\n",
       "</style>\n",
       "<table border=\"1\" class=\"dataframe\">\n",
       "  <thead>\n",
       "    <tr style=\"text-align: right;\">\n",
       "      <th></th>\n",
       "      <th>Date</th>\n",
       "      <th>Count</th>\n",
       "      <th>Temp (C)</th>\n",
       "      <th>Visibility (km)</th>\n",
       "    </tr>\n",
       "  </thead>\n",
       "  <tbody>\n",
       "    <tr>\n",
       "      <th>0</th>\n",
       "      <td>2018-01-01</td>\n",
       "      <td>12</td>\n",
       "      <td>-16.683333</td>\n",
       "      <td>42.570833</td>\n",
       "    </tr>\n",
       "    <tr>\n",
       "      <th>1</th>\n",
       "      <td>2018-01-02</td>\n",
       "      <td>30</td>\n",
       "      <td>-3.787500</td>\n",
       "      <td>40.891667</td>\n",
       "    </tr>\n",
       "    <tr>\n",
       "      <th>2</th>\n",
       "      <td>2018-01-03</td>\n",
       "      <td>26</td>\n",
       "      <td>-2.391667</td>\n",
       "      <td>39.212500</td>\n",
       "    </tr>\n",
       "    <tr>\n",
       "      <th>3</th>\n",
       "      <td>2018-01-04</td>\n",
       "      <td>22</td>\n",
       "      <td>-5.016667</td>\n",
       "      <td>40.891667</td>\n",
       "    </tr>\n",
       "    <tr>\n",
       "      <th>4</th>\n",
       "      <td>2018-01-05</td>\n",
       "      <td>20</td>\n",
       "      <td>-0.345833</td>\n",
       "      <td>40.891667</td>\n",
       "    </tr>\n",
       "  </tbody>\n",
       "</table>\n",
       "</div>"
      ],
      "text/plain": [
       "        Date  Count   Temp (C)  Visibility (km)\n",
       "0 2018-01-01     12 -16.683333        42.570833\n",
       "1 2018-01-02     30  -3.787500        40.891667\n",
       "2 2018-01-03     26  -2.391667        39.212500\n",
       "3 2018-01-04     22  -5.016667        40.891667\n",
       "4 2018-01-05     20  -0.345833        40.891667"
      ]
     },
     "execution_count": 31,
     "metadata": {},
     "output_type": "execute_result"
    }
   ],
   "source": [
    "df_merged_acc_weather_final.head()"
   ]
  },
  {
   "cell_type": "code",
   "execution_count": 55,
   "metadata": {},
   "outputs": [
    {
     "data": {
      "text/plain": [
       "Text(0, 0.5, 'Accident count')"
      ]
     },
     "execution_count": 55,
     "metadata": {},
     "output_type": "execute_result"
    },
    {
     "data": {
      "image/png": "[encoded data removed]",
      "text/plain": [
       "<Figure size 864x288 with 1 Axes>"
      ]
     },
     "metadata": {
      "needs_background": "light"
     },
     "output_type": "display_data"
    }
   ],
   "source": [
    "# scatter plot analysis for Visibility and number of accidents for each day of year 2018\n",
    "\n",
    "f, (ax) = plt.subplots(1, 1, figsize=(12, 4))\n",
    "f.suptitle('Accident count Vs Visibility', fontsize=14)\n",
    "\n",
    "s = sns.scatterplot(x=df_merged_acc_weather_final['Visibility (km)'], y=df_merged_acc_weather_final['Count'], data=df_merged_acc_weather_final)\n",
    "s.set_xlabel(\"Visibility\",size = 12,alpha=0.8)\n",
    "s.set_ylabel(\"Accident count\",size = 12,alpha=0.8)\n"
   ]
  },
  {
   "cell_type": "code",
   "execution_count": 102,
   "metadata": {},
   "outputs": [
    {
     "data": {
      "text/plain": [
       "-0.12389482346931961"
      ]
     },
     "execution_count": 102,
     "metadata": {},
     "output_type": "execute_result"
    }
   ],
   "source": [
    "# for accident and weather (temp and visibility) spearman coeffcient\n",
    "\n",
    "# getting columns of accidents and speed\n",
    "df_acc_visibility = df_merged_acc_weather_final[['Count', 'Visibility (km)']]\n",
    "# df_acc_temp = df_acc_temp.replace(0, np.nan)\n",
    "# df_acc_temp.dropna(inplace = True)\n",
    "\n",
    "visibility_correlation = df_acc_visibility.corr(method ='spearman')\n",
    "visibility_correlation = visibility_correlation['Count'][1]\n",
    "visibility_correlation"
   ]
  },
  {
   "cell_type": "markdown",
   "metadata": {},
   "source": [
    "# Conclusion:\n",
    "As observed, the scatter plot dots have risen to higher count of accidents for lower values of visibility.\n",
    "it signifies that more accidents took place on days when visibility was low. \n",
    "Similarly, spearman visibility_correlation value: -0.12389 also shows the same.\n"
   ]
  },
  {
   "cell_type": "code",
   "execution_count": 56,
   "metadata": {},
   "outputs": [
    {
     "data": {
      "text/plain": [
       "Text(0, 0.5, 'Accident count')"
      ]
     },
     "execution_count": 56,
     "metadata": {},
     "output_type": "execute_result"
    },
    {
     "data": {
      "image/png": "[encoded data removed]",
      "text/plain": [
       "<Figure size 864x288 with 1 Axes>"
      ]
     },
     "metadata": {
      "needs_background": "light"
     },
     "output_type": "display_data"
    }
   ],
   "source": [
    "# scatter plot analysis for Temperature and number of accidents for each day of year 2018\n",
    "\n",
    "f, (ax) = plt.subplots(1, 1, figsize=(12, 4))\n",
    "f.suptitle('Accident count Vs Temperature', fontsize=14)\n",
    "\n",
    "fig = sns.scatterplot(x=df_merged_acc_weather_final['Temp (C)'], y=df_merged_acc_weather_final['Count'], data=df_merged_acc_weather_final)\n",
    "fig.set_xlabel(\"Temperature\",size = 12,alpha=0.8)\n",
    "fig.set_ylabel(\"Accident count\",size = 12,alpha=0.8)"
   ]
  },
  {
   "cell_type": "code",
   "execution_count": 101,
   "metadata": {},
   "outputs": [
    {
     "data": {
      "text/plain": [
       "-0.1621251201648267"
      ]
     },
     "execution_count": 101,
     "metadata": {},
     "output_type": "execute_result"
    }
   ],
   "source": [
    "# for accident and weather (temp ) spearman coeffcient\n",
    "# getting columns of accidents and speed\n",
    "df_acc_temp = df_merged_acc_weather_final[['Count', 'Temp (C)']]\n",
    "# df_acc_temp = df_acc_temp.replace(0, np.nan)\n",
    "# df_acc_temp.dropna(inplace = True)\n",
    "\n",
    "temp_correlation = df_acc_temp.corr(method ='spearman')\n",
    "temp_correlation = temp_correlation['Count'][1]\n",
    "temp_correlation"
   ]
  },
  {
   "cell_type": "markdown",
   "metadata": {},
   "source": [
    "# Conclusion:\n",
    "As observed, the scatter plot dots have risen to higher count of accidents for lower values of temperature.\n",
    "It signifies that more accidents took place on days when temp was low. \n",
    "Similarly, spearman temp_correlation value: -0.16212 also shows the same.\n"
   ]
  },
  {
   "cell_type": "code",
   "execution_count": 63,
   "metadata": {},
   "outputs": [
    {
     "data": {
      "image/png": "[encoded data removed]",
      "text/plain": [
       "<Figure size 432x288 with 1 Axes>"
      ]
     },
     "metadata": {
      "needs_background": "light"
     },
     "output_type": "display_data"
    }
   ],
   "source": [
    "# combined scatter plot analysis for Weather and number of accidents\n",
    "\n",
    "fig1 = plt.figure()\n",
    "ax1 = fig1.add_subplot(111)\n",
    "fig1.suptitle('Accident count Vs Temp & Visibility', fontsize=14)\n",
    "\n",
    "ax1.scatter(x=df_merged_acc_weather_final['Temp (C)'], y=df_merged_acc_weather_final['Count'], s=10, c='b', marker=\"s\", label='Temperature')\n",
    "ax1.scatter(x=df_merged_acc_weather_final['Visibility (km)'], y=df_merged_acc_weather_final['Count'], s=10, c='r', marker=\"o\", label='Visibility')\n",
    "plt.legend(loc='upper right');\n",
    "ax1.set_xlabel(\"Temp & Visibility\",size = 12,alpha=0.8)\n",
    "ax1.set_ylabel(\"Accident count\",size = 12,alpha=0.8)\n",
    "plt.show()"
   ]
  },
  {
   "cell_type": "markdown",
   "metadata": {},
   "source": [
    "# Analysis for Number of Accidents and Speed limit"
   ]
  },
  {
   "cell_type": "code",
   "execution_count": 107,
   "metadata": {},
   "outputs": [
    {
     "data": {
      "text/html": [
       "<div>\n",
       "<style scoped>\n",
       "    .dataframe tbody tr th:only-of-type {\n",
       "        vertical-align: middle;\n",
       "    }\n",
       "\n",
       "    .dataframe tbody tr th {\n",
       "        vertical-align: top;\n",
       "    }\n",
       "\n",
       "    .dataframe thead th {\n",
       "        text-align: right;\n",
       "    }\n",
       "</style>\n",
       "<table border=\"1\" class=\"dataframe\">\n",
       "  <thead>\n",
       "    <tr style=\"text-align: right;\">\n",
       "      <th></th>\n",
       "      <th>SPEED</th>\n",
       "    </tr>\n",
       "    <tr>\n",
       "      <th>CREATED_DT</th>\n",
       "      <th></th>\n",
       "    </tr>\n",
       "  </thead>\n",
       "  <tbody>\n",
       "    <tr>\n",
       "      <th>2018-10-17</th>\n",
       "      <td>67.818182</td>\n",
       "    </tr>\n",
       "    <tr>\n",
       "      <th>2018-10-23</th>\n",
       "      <td>63.092105</td>\n",
       "    </tr>\n",
       "    <tr>\n",
       "      <th>2018-10-25</th>\n",
       "      <td>63.636364</td>\n",
       "    </tr>\n",
       "    <tr>\n",
       "      <th>2018-10-28</th>\n",
       "      <td>67.142857</td>\n",
       "    </tr>\n",
       "    <tr>\n",
       "      <th>2018-10-29</th>\n",
       "      <td>53.902439</td>\n",
       "    </tr>\n",
       "    <tr>\n",
       "      <th>2018-10-30</th>\n",
       "      <td>55.717489</td>\n",
       "    </tr>\n",
       "    <tr>\n",
       "      <th>2018-10-31</th>\n",
       "      <td>57.210884</td>\n",
       "    </tr>\n",
       "    <tr>\n",
       "      <th>2018-11-02</th>\n",
       "      <td>66.842105</td>\n",
       "    </tr>\n",
       "    <tr>\n",
       "      <th>2018-11-07</th>\n",
       "      <td>78.500000</td>\n",
       "    </tr>\n",
       "    <tr>\n",
       "      <th>2018-12-06</th>\n",
       "      <td>76.976744</td>\n",
       "    </tr>\n",
       "    <tr>\n",
       "      <th>2018-12-31</th>\n",
       "      <td>100.000000</td>\n",
       "    </tr>\n",
       "  </tbody>\n",
       "</table>\n",
       "</div>"
      ],
      "text/plain": [
       "                 SPEED\n",
       "CREATED_DT            \n",
       "2018-10-17   67.818182\n",
       "2018-10-23   63.092105\n",
       "2018-10-25   63.636364\n",
       "2018-10-28   67.142857\n",
       "2018-10-29   53.902439\n",
       "2018-10-30   55.717489\n",
       "2018-10-31   57.210884\n",
       "2018-11-02   66.842105\n",
       "2018-11-07   78.500000\n",
       "2018-12-06   76.976744\n",
       "2018-12-31  100.000000"
      ]
     },
     "execution_count": 107,
     "metadata": {},
     "output_type": "execute_result"
    }
   ],
   "source": [
    "# fetching date and speed values into new dataframe from df_speed\n",
    "df_speed_cleaned = df_speed[['CREATED_DT','SPEED']]\n",
    "\n",
    "# resampling df_speed_cleaned dataframe for average speed for each date in year 2018\n",
    "df_speed_cleaned_avg = df_speed_cleaned.groupby(['CREATED_DT']).mean()\n",
    "df_speed_cleaned_avg"
   ]
  },
  {
   "cell_type": "code",
   "execution_count": 43,
   "metadata": {},
   "outputs": [
    {
     "data": {
      "text/html": [
       "<div>\n",
       "<style scoped>\n",
       "    .dataframe tbody tr th:only-of-type {\n",
       "        vertical-align: middle;\n",
       "    }\n",
       "\n",
       "    .dataframe tbody tr th {\n",
       "        vertical-align: top;\n",
       "    }\n",
       "\n",
       "    .dataframe thead th {\n",
       "        text-align: right;\n",
       "    }\n",
       "</style>\n",
       "<table border=\"1\" class=\"dataframe\">\n",
       "  <thead>\n",
       "    <tr style=\"text-align: right;\">\n",
       "      <th></th>\n",
       "      <th>SPEED</th>\n",
       "      <th>Date</th>\n",
       "      <th>Count</th>\n",
       "    </tr>\n",
       "  </thead>\n",
       "  <tbody>\n",
       "    <tr>\n",
       "      <th>0</th>\n",
       "      <td>67.8</td>\n",
       "      <td>2018-10-17</td>\n",
       "      <td>35</td>\n",
       "    </tr>\n",
       "    <tr>\n",
       "      <th>1</th>\n",
       "      <td>63.1</td>\n",
       "      <td>2018-10-23</td>\n",
       "      <td>25</td>\n",
       "    </tr>\n",
       "    <tr>\n",
       "      <th>2</th>\n",
       "      <td>63.6</td>\n",
       "      <td>2018-10-25</td>\n",
       "      <td>18</td>\n",
       "    </tr>\n",
       "    <tr>\n",
       "      <th>3</th>\n",
       "      <td>67.1</td>\n",
       "      <td>2018-10-28</td>\n",
       "      <td>4</td>\n",
       "    </tr>\n",
       "    <tr>\n",
       "      <th>4</th>\n",
       "      <td>53.9</td>\n",
       "      <td>2018-10-29</td>\n",
       "      <td>25</td>\n",
       "    </tr>\n",
       "    <tr>\n",
       "      <th>5</th>\n",
       "      <td>55.7</td>\n",
       "      <td>2018-10-30</td>\n",
       "      <td>24</td>\n",
       "    </tr>\n",
       "    <tr>\n",
       "      <th>6</th>\n",
       "      <td>57.2</td>\n",
       "      <td>2018-10-31</td>\n",
       "      <td>19</td>\n",
       "    </tr>\n",
       "    <tr>\n",
       "      <th>7</th>\n",
       "      <td>66.8</td>\n",
       "      <td>2018-11-02</td>\n",
       "      <td>16</td>\n",
       "    </tr>\n",
       "    <tr>\n",
       "      <th>8</th>\n",
       "      <td>78.5</td>\n",
       "      <td>2018-11-07</td>\n",
       "      <td>22</td>\n",
       "    </tr>\n",
       "    <tr>\n",
       "      <th>9</th>\n",
       "      <td>77.0</td>\n",
       "      <td>2018-12-06</td>\n",
       "      <td>26</td>\n",
       "    </tr>\n",
       "    <tr>\n",
       "      <th>10</th>\n",
       "      <td>100.0</td>\n",
       "      <td>2018-12-31</td>\n",
       "      <td>13</td>\n",
       "    </tr>\n",
       "  </tbody>\n",
       "</table>\n",
       "</div>"
      ],
      "text/plain": [
       "    SPEED       Date  Count\n",
       "0    67.8 2018-10-17     35\n",
       "1    63.1 2018-10-23     25\n",
       "2    63.6 2018-10-25     18\n",
       "3    67.1 2018-10-28      4\n",
       "4    53.9 2018-10-29     25\n",
       "5    55.7 2018-10-30     24\n",
       "6    57.2 2018-10-31     19\n",
       "7    66.8 2018-11-02     16\n",
       "8    78.5 2018-11-07     22\n",
       "9    77.0 2018-12-06     26\n",
       "10  100.0 2018-12-31     13"
      ]
     },
     "execution_count": 43,
     "metadata": {},
     "output_type": "execute_result"
    }
   ],
   "source": [
    "# merging speed and traffic incidents data\n",
    "df_merged_acc_speed = pd.merge(df_speed_cleaned_avg, df_accidents_sample, left_on = 'CREATED_DT', right_on = 'Date', how='inner')\n",
    "df_merged_acc_speed_rounded = df_merged_acc_speed.round({\"SPEED\":1})\n",
    "df_merged_acc_speed_rounded"
   ]
  },
  {
   "cell_type": "code",
   "execution_count": 108,
   "metadata": {},
   "outputs": [
    {
     "data": {
      "text/plain": [
       "Text(0, 0.5, 'Accident count')"
      ]
     },
     "execution_count": 108,
     "metadata": {},
     "output_type": "execute_result"
    },
    {
     "data": {
      "image/png": "[encoded data removed]",
      "text/plain": [
       "<Figure size 864x288 with 1 Axes>"
      ]
     },
     "metadata": {
      "needs_background": "light"
     },
     "output_type": "display_data"
    }
   ],
   "source": [
    "# pointplot analysis for Speed limit and number of accidents \n",
    "fig2,ax2 = plt.subplots(figsize=(12,4))\n",
    "fig2.suptitle('Accident count Vs Speed Limit', fontsize=14)\n",
    "pp = sns.pointplot(x='SPEED', y='Count',   data=df_merged_acc_speed_rounded, )\n",
    "ax2.set_xlabel(\"Speed Limit\",size = 12,alpha=0.8)\n",
    "ax2.set_ylabel(\"Accident count\",size = 12,alpha=0.8)\n"
   ]
  },
  {
   "cell_type": "markdown",
   "metadata": {},
   "source": [
    "# Conclusion:\n",
    "As observed, the point plot dots show higher value of accident count for higher speed limit values.\n",
    "It signifies that more accidents took place on locations where speed limit was higher. \n",
    "Similarly, spearman speed correlation value: -0.30244 also shows the same.\n"
   ]
  },
  {
   "cell_type": "markdown",
   "metadata": {},
   "source": [
    "# Finding spearman correlation"
   ]
  },
  {
   "cell_type": "markdown",
   "metadata": {},
   "source": [
    "Spearman coefficient for cameras and accidents"
   ]
  },
  {
   "cell_type": "code",
   "execution_count": 91,
   "metadata": {},
   "outputs": [
    {
     "name": "stderr",
     "output_type": "stream",
     "text": [
      "C:\\Users\\nehas\\anaconda3\\lib\\site-packages\\ipykernel_launcher.py:5: SettingWithCopyWarning: \n",
      "A value is trying to be set on a copy of a slice from a DataFrame\n",
      "\n",
      "See the caveats in the documentation: https://pandas.pydata.org/pandas-docs/stable/user_guide/indexing.html#returning-a-view-versus-a-copy\n",
      "  \"\"\"\n"
     ]
    }
   ],
   "source": [
    "# for accident and cameras spearman coeffcient\n",
    "\n",
    "# getting columns of accidents and cameras\n",
    "df_acc_cameras = df[['num_cameras', 'num_accidents']]\n",
    "df_acc_cameras.dropna(inplace = True)\n",
    "\n",
    "camera_correlation = df_acc_cameras.corr(method ='spearman')\n",
    "camera_correlation = camera_correlation['num_accidents'][0]"
   ]
  },
  {
   "cell_type": "markdown",
   "metadata": {},
   "source": [
    "Calculating the spearman coefficient between the speed and the accidents"
   ]
  },
  {
   "cell_type": "code",
   "execution_count": 92,
   "metadata": {},
   "outputs": [],
   "source": [
    "# for accident and speed spearman coeffcient\n",
    "# getting columns of accidents and speed\n",
    "df_acc_speed = df[['avg_speed', 'num_accidents']]\n",
    "df_acc_speed = df_acc_speed.replace(0, np.nan)\n",
    "df_acc_speed.dropna(inplace = True)\n",
    "\n",
    "speed_correlation = df_acc_speed.corr(method ='spearman')\n",
    "speed_correlation = speed_correlation['num_accidents'][0]"
   ]
  },
  {
   "cell_type": "markdown",
   "metadata": {},
   "source": [
    "calculating the spearman coefficient between the signs and the accidents"
   ]
  },
  {
   "cell_type": "code",
   "execution_count": 93,
   "metadata": {},
   "outputs": [],
   "source": [
    "# for accident and sign spearman coeffcient\n",
    "# getting columns of accidents and signs\n",
    "df_acc_sign = df[['num_signs', 'num_accidents']]\n",
    "df_acc_sign = df_acc_sign.replace(0, np.nan)\n",
    "df_acc_sign.dropna(inplace = True)\n",
    "\n",
    "sign_correlation = df_acc_sign.corr(method ='spearman')\n",
    "sign_correlation = sign_correlation['num_accidents'][0]\n",
    "\n"
   ]
  },
  {
   "cell_type": "markdown",
   "metadata": {},
   "source": [
    "calculating the spearman coefficient between the signals and the accidents"
   ]
  },
  {
   "cell_type": "code",
   "execution_count": 94,
   "metadata": {},
   "outputs": [
    {
     "name": "stderr",
     "output_type": "stream",
     "text": [
      "C:\\Users\\nehas\\anaconda3\\lib\\site-packages\\ipykernel_launcher.py:4: SettingWithCopyWarning: \n",
      "A value is trying to be set on a copy of a slice from a DataFrame\n",
      "\n",
      "See the caveats in the documentation: https://pandas.pydata.org/pandas-docs/stable/user_guide/indexing.html#returning-a-view-versus-a-copy\n",
      "  after removing the cwd from sys.path.\n"
     ]
    }
   ],
   "source": [
    "# for accident and speed spearman coeffcient\n",
    "# getting columns of accidents and cameras\n",
    "df_acc_signal = df[['num_signal', 'num_accidents']]\n",
    "df_acc_signal.dropna(inplace = True)\n",
    "\n",
    "signal_correlation = df_acc_signal.corr(method ='spearman')\n",
    "signal_correlation = signal_correlation['num_accidents'][0]\n"
   ]
  },
  {
   "cell_type": "markdown",
   "metadata": {},
   "source": [
    "calculating the spearman coefficient between the volume and the accidents"
   ]
  },
  {
   "cell_type": "code",
   "execution_count": 95,
   "metadata": {},
   "outputs": [
    {
     "name": "stderr",
     "output_type": "stream",
     "text": [
      "C:\\Users\\nehas\\anaconda3\\lib\\site-packages\\ipykernel_launcher.py:5: SettingWithCopyWarning: \n",
      "A value is trying to be set on a copy of a slice from a DataFrame\n",
      "\n",
      "See the caveats in the documentation: https://pandas.pydata.org/pandas-docs/stable/user_guide/indexing.html#returning-a-view-versus-a-copy\n",
      "  \"\"\"\n"
     ]
    }
   ],
   "source": [
    "# for accident and volume spearman coeffcient\n",
    "# getting columns of accidents and volumes\n",
    "df_acc_vol = df[['avg_volume', 'num_accidents']]\n",
    "#df_acc_vol = df_acc_vol.replace(0, np.nan)\n",
    "df_acc_vol.dropna(inplace = True)\n",
    "\n",
    "volume_correlation = df_acc_vol.corr(method ='spearman')\n",
    "volume_correlation = volume_correlation['num_accidents'][0]"
   ]
  },
  {
   "cell_type": "code",
   "execution_count": 96,
   "metadata": {},
   "outputs": [
    {
     "name": "stdout",
     "output_type": "stream",
     "text": [
      "The spearman coefficient between the volume and the accidents are coefficient : 0.810734078755483\n",
      "The spearman coefficient between the signal and the accidents are coefficient : 0.550450740145992\n",
      "The spearman coefficient between the sign and the accidents are coefficient : 0.8661947875425979\n",
      "The spearman coefficient between the speed and the accidents are coefficient : -0.30244249000362833\n",
      "The spearman coefficient between the cameras and the accidents are coefficient : 0.8006178167759678\n"
     ]
    }
   ],
   "source": [
    "# printing the spear man coefficient\n",
    "print(\"The spearman coefficient between the volume and the accidents are coefficient : \" + str(volume_correlation))\n",
    "print(\"The spearman coefficient between the signal and the accidents are coefficient : \" + str(signal_correlation))\n",
    "print(\"The spearman coefficient between the sign and the accidents are coefficient : \" + str(sign_correlation))\n",
    "print(\"The spearman coefficient between the speed and the accidents are coefficient : \" + str(speed_correlation))\n",
    "print(\"The spearman coefficient between the cameras and the accidents are coefficient : \" + str(camera_correlation))"
   ]
  },
  {
   "cell_type": "markdown",
   "metadata": {},
   "source": []
  },
  {
   "cell_type": "code",
   "execution_count": null,
   "metadata": {},
   "outputs": [],
   "source": []
  },
  {
   "cell_type": "code",
   "execution_count": null,
   "metadata": {},
   "outputs": [],
   "source": [
    "\n",
    "\n"
   ]
  },
  {
   "cell_type": "code",
   "execution_count": null,
   "metadata": {},
   "outputs": [],
   "source": []
  }
 ],
 "metadata": {
  "kernelspec": {
   "display_name": "Python 3",
   "language": "python",
   "name": "python3"
  },
  "language_info": {
   "codemirror_mode": {
    "name": "ipython",
    "version": 3
   },
   "file_extension": ".py",
   "mimetype": "text/x-python",
   "name": "python",
   "nbconvert_exporter": "python",
   "pygments_lexer": "ipython3",
   "version": "3.7.4"
  }
 },
 "nbformat": 4,
 "nbformat_minor": 2
}
